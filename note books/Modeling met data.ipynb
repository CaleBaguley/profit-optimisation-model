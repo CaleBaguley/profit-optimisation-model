{
 "cells": [
  {
   "cell_type": "markdown",
   "id": "5f6e596f",
   "metadata": {},
   "source": [
    "The purpose of this note book is to apply the profit optiisation model to make predictions based on a set of met office data. This can then also be compared to Manon's results.\n",
    "\n",
    "The code bellow imports the necessary python packages."
   ]
  },
  {
   "cell_type": "code",
   "execution_count": 1,
   "id": "1ddaad3f",
   "metadata": {
    "scrolled": false
   },
   "outputs": [
    {
     "name": "stdout",
     "output_type": "stream",
     "text": [
      "<src.TemperatureDependenceModels.arrhenius_and_peaked_arrhenius_function.ArrheniusModel object at 0x1077dd9d0>\n",
      "<src.TemperatureDependenceModels.arrhenius_and_peaked_arrhenius_function.ArrheniusModel object at 0x1077dd9d0>\n"
     ]
    }
   ],
   "source": [
    "import sys\n",
    "sys.path.append('../')\n",
    "\n",
    "from src.vapour_pressure_deficit_calculation import vapour_pressure_deficit\n",
    "from src.cumulative_Weibull_distribution_model import CumulativeWeibullDistribution, cumulative_weibull_distribution_from_conductance_loss_at_given_water_potentials\n",
    "from src.leaf_air_coupling_model import LeafAirCouplingModel\n",
    "from src.rubisco_CO2_and_O_model import RubiscoRates\n",
    "from src.electron_transport_rate_model import ElectronTransportRateModel\n",
    "\n",
    "# -- Temperature dependency models --\n",
    "from src.TemperatureDependenceModels.arrhenius_and_peaked_arrhenius_function import PeakedArrheniusModel, ArrheniusModel\n",
    "from src.TemperatureDependenceModels.Q10_temperature_dependence_model import Q10TemperatureDependenceModel\n",
    "from src.TemperatureDependenceModels.temperature_dependence_model import LowTemperatureAdjustedModel\n",
    "\n",
    "# -- Photosynthesis models --\n",
    "from src.PhotosynthesisModels.photosynthesis_model import PhotosynthesisModel\n",
    "from src.PhotosynthesisModels.Bonan_Model import PhotosynthesisModelRubiscoLimitedBonan as PhotosynthesisModelRubiscoLimited\n",
    "from src.PhotosynthesisModels.Bonan_Model import PhotosynthesisModelElectronTransportLimitedBonan as PhotosynthesisModelElectronTransportLimited\n",
    "\n",
    "# -- Profit Models --\n",
    "from src.ProfitModels.CO2GainModels.CO2_gain_model import CO2GainModel\n",
    "from src.ProfitModels.HydraulicCostModels.hydraulic_cost_model import HydraulicCostModel\n",
    "from src.ProfitModels.profit_max_model import ProfitMaxModel\n",
    "from src.ProfitModels.profit_optimisation_model import run_optimisation_model_on_data\n",
    "\n",
    "from src.conversions import (magnitude_conversion,\n",
    "                             mole_carbon_to_grams,\n",
    "                             per_day_to_per_second,\n",
    "                             per_second_to_per_half_hour,\n",
    "                             convert_transpiration_rate_to_latent_energy,\n",
    "                             short_wave_to_photosynthetically_active_radiation,\n",
    "                             light_energy_in_joules_to_micro_moles_of_light,\n",
    "                             degrees_kelvin_to_centigrade,\n",
    "                             convert_stomatal_conductance_of_carbon_to_water)\n",
    "\n",
    "from xarray import open_dataset\n",
    "from pandas import DataFrame, date_range\n",
    "from numpy import nan\n",
    "\n",
    "from matplotlib import pyplot as plt"
   ]
  },
  {
   "cell_type": "markdown",
   "id": "8cf11fc5",
   "metadata": {},
   "source": [
    "# Metoffice data\n",
    "\n",
    "To run the model we need a set of environmental data, this we get from a netcdf file. The code bellow imports and prints a description of this file."
   ]
  },
  {
   "cell_type": "code",
   "execution_count": 2,
   "id": "f347bc32",
   "metadata": {
    "scrolled": false
   },
   "outputs": [
    {
     "name": "stdout",
     "output_type": "stream",
     "text": [
      "<xarray.Dataset>\n",
      "Dimensions:    (time: 17520, z: 1, y: 1, x: 1)\n",
      "Coordinates:\n",
      "  * time       (time) float64 0.0 1.8e+03 3.6e+03 ... 3.153e+07 3.153e+07\n",
      "  * z          (z) float64 1.0\n",
      "  * y          (y) float64 1.0\n",
      "  * x          (x) float64 1.0\n",
      "Data variables:\n",
      "    latitude   (y, x) float64 ...\n",
      "    longitude  (y, x) float64 ...\n",
      "    SWdown     (time, y, x) float64 ...\n",
      "    Tair       (time, y, x) float64 ...\n",
      "    Precip     (time, y, x) float64 ...\n",
      "    Qair       (time, y, x) float64 ...\n",
      "    Wind       (time, y, x) float64 ...\n",
      "    Psurf      (time, y, x) float64 ...\n",
      "    LWdown     (time, y, x) float64 ...\n",
      "    CO2air     (time, z, y, x) float64 ...\n",
      "    za_tq      (y, x) float64 ...\n",
      "    za_uv      (y, x) float64 ...\n",
      "Attributes:\n",
      "    description:    Alice Holt met data, created by Martin De Kauwe\n",
      "    history:        Created by: generate_met_file_2022_JULES.py\n",
      "    creation_date:  2023-06-30 12:33:02.874471\n",
      "    contact:        mdekauwe@gmail.com\n"
     ]
    }
   ],
   "source": [
    "metoffice_data_file_address = \"../../Example met data/Alice_Holt/data/UK-Ham_2002-2003_Met.nc\"\n",
    "\n",
    "metoffice_data_file = open_dataset(metoffice_data_file_address, decode_times = False)\n",
    "\n",
    "print(metoffice_data_file)"
   ]
  },
  {
   "cell_type": "markdown",
   "id": "0f584627",
   "metadata": {},
   "source": [
    "We can take a closer look at the available data \"columns\" using the keys property."
   ]
  },
  {
   "cell_type": "code",
   "execution_count": 3,
   "id": "4115c597",
   "metadata": {
    "scrolled": false
   },
   "outputs": [
    {
     "name": "stdout",
     "output_type": "stream",
     "text": [
      "<bound method Mapping.keys of <xarray.Dataset>\n",
      "Dimensions:    (time: 17520, z: 1, y: 1, x: 1)\n",
      "Coordinates:\n",
      "  * time       (time) float64 0.0 1.8e+03 3.6e+03 ... 3.153e+07 3.153e+07\n",
      "  * z          (z) float64 1.0\n",
      "  * y          (y) float64 1.0\n",
      "  * x          (x) float64 1.0\n",
      "Data variables:\n",
      "    latitude   (y, x) float64 ...\n",
      "    longitude  (y, x) float64 ...\n",
      "    SWdown     (time, y, x) float64 ...\n",
      "    Tair       (time, y, x) float64 ...\n",
      "    Precip     (time, y, x) float64 ...\n",
      "    Qair       (time, y, x) float64 ...\n",
      "    Wind       (time, y, x) float64 ...\n",
      "    Psurf      (time, y, x) float64 ...\n",
      "    LWdown     (time, y, x) float64 ...\n",
      "    CO2air     (time, z, y, x) float64 ...\n",
      "    za_tq      (y, x) float64 ...\n",
      "    za_uv      (y, x) float64 ...\n",
      "Attributes:\n",
      "    description:    Alice Holt met data, created by Martin De Kauwe\n",
      "    history:        Created by: generate_met_file_2022_JULES.py\n",
      "    creation_date:  2023-06-30 12:33:02.874471\n",
      "    contact:        mdekauwe@gmail.com>\n"
     ]
    }
   ],
   "source": [
    "print(metoffice_data_file.keys)"
   ]
  },
  {
   "cell_type": "markdown",
   "id": "762a1e61",
   "metadata": {},
   "source": [
    "Alternativly you can inspect a netcdf file without the need to write python code. For example to view the header of the netcdf file from the terminal use the following command: \n",
    "\n",
    "$$ \\text{ncdump -h file_address} $$\n",
    "\n",
    "Note the -h restricts the output to only the header, if it is removed the entier file is printed. \n",
    "\n",
    "Alternativly for a graphical interface you can open the file using nasas panoply software (https://www.giss.nasa.gov/tools/panoply/download/)."
   ]
  },
  {
   "cell_type": "markdown",
   "id": "63aae749",
   "metadata": {},
   "source": [
    "From this file we only want a subset of the columns, specificaly air temperature, specific humidity, air pressure at the ground surface, the $CO_2$ fraction of the air and the amount of incident shortwave radiation. These columns are labeld Tair, Qair, Psurf, CO2air and SWdown respectivly. The code bellow reduces the data to just these columns."
   ]
  },
  {
   "cell_type": "code",
   "execution_count": 4,
   "id": "2deb64db",
   "metadata": {
    "scrolled": false
   },
   "outputs": [
    {
     "name": "stdout",
     "output_type": "stream",
     "text": [
      "<xarray.Dataset>\n",
      "Dimensions:  (time: 17520, y: 1, x: 1, z: 1)\n",
      "Coordinates:\n",
      "  * time     (time) float64 0.0 1.8e+03 3.6e+03 ... 3.153e+07 3.153e+07\n",
      "  * z        (z) float64 1.0\n",
      "  * y        (y) float64 1.0\n",
      "  * x        (x) float64 1.0\n",
      "Data variables:\n",
      "    Tair     (time, y, x) float64 ...\n",
      "    Qair     (time, y, x) float64 ...\n",
      "    Psurf    (time, y, x) float64 ...\n",
      "    CO2air   (time, z, y, x) float64 ...\n",
      "    SWdown   (time, y, x) float64 ...\n",
      "Attributes:\n",
      "    description:    Alice Holt met data, created by Martin De Kauwe\n",
      "    history:        Created by: generate_met_file_2022_JULES.py\n",
      "    creation_date:  2023-06-30 12:33:02.874471\n",
      "    contact:        mdekauwe@gmail.com\n"
     ]
    }
   ],
   "source": [
    "met_columns = [\"Tair\", \"Qair\", \"Psurf\", \"CO2air\", \"SWdown\"]\n",
    "metoffice_data = metoffice_data_file[met_columns]\n",
    "\n",
    "print(metoffice_data)"
   ]
  },
  {
   "cell_type": "markdown",
   "id": "9fc9c1a0",
   "metadata": {},
   "source": [
    "We can see that each column is actualy three dimentional. The first dimension coressponds to the time at wich the measurment is conducted. The remaining two dimentions \"x\" and \"y\" are needed when running simulations over a grid of adjacent sites, and \"z\" is used to brake the atmospher into different cells. The data in this particular file only uses one site and a single hight cell so we can remove these three diemtions."
   ]
  },
  {
   "cell_type": "code",
   "execution_count": 5,
   "id": "c7280cbd",
   "metadata": {
    "scrolled": false
   },
   "outputs": [
    {
     "name": "stdout",
     "output_type": "stream",
     "text": [
      "<xarray.Dataset>\n",
      "Dimensions:  (time: 17520)\n",
      "Coordinates:\n",
      "  * time     (time) float64 0.0 1.8e+03 3.6e+03 ... 3.153e+07 3.153e+07\n",
      "Data variables:\n",
      "    Tair     (time) float64 ...\n",
      "    Qair     (time) float64 ...\n",
      "    Psurf    (time) float64 ...\n",
      "    CO2air   (time) float64 ...\n",
      "    SWdown   (time) float64 ...\n",
      "Attributes:\n",
      "    description:    Alice Holt met data, created by Martin De Kauwe\n",
      "    history:        Created by: generate_met_file_2022_JULES.py\n",
      "    creation_date:  2023-06-30 12:33:02.874471\n",
      "    contact:        mdekauwe@gmail.com\n"
     ]
    }
   ],
   "source": [
    "metoffice_data = metoffice_data.squeeze(dim=[\"x\", \"y\", \"z\"], drop = True)\n",
    "\n",
    "print(metoffice_data)"
   ]
  },
  {
   "cell_type": "markdown",
   "id": "fcce0fa7",
   "metadata": {},
   "source": [
    "Next we convert this into a pandas data frame to make it easier to work with."
   ]
  },
  {
   "cell_type": "code",
   "execution_count": 6,
   "id": "56970b8f",
   "metadata": {
    "scrolled": false
   },
   "outputs": [
    {
     "name": "stdout",
     "output_type": "stream",
     "text": [
      "               Tair      Qair     Psurf  CO2air  SWdown\n",
      "time                                                   \n",
      "0.0         289.322  0.006778  101608.0  418.56     0.0\n",
      "1800.0      289.322  0.006778  101608.0  418.56     0.0\n",
      "3600.0      287.886  0.006796  101628.0  418.56     0.0\n",
      "5400.0      287.886  0.006796  101628.0  418.56     0.0\n",
      "7200.0      286.193  0.006731  101659.0  418.56     0.0\n",
      "...             ...       ...       ...     ...     ...\n",
      "31527000.0  285.735  0.006571   99948.7  418.56     0.0\n",
      "31528800.0  286.414  0.006736   99905.7  418.56     0.0\n",
      "31530600.0  286.414  0.006736   99905.7  418.56     0.0\n",
      "31532400.0  285.521  0.007251   99803.2  418.56     0.0\n",
      "31534200.0  285.521  0.007251   99803.2  418.56     0.0\n",
      "\n",
      "[17520 rows x 5 columns]\n"
     ]
    }
   ],
   "source": [
    "metoffice_data = metoffice_data.to_pandas()\n",
    "\n",
    "print(metoffice_data)"
   ]
  },
  {
   "cell_type": "markdown",
   "id": "8668162f",
   "metadata": {},
   "source": [
    "Inorder to run the profit optimisation model we need the vapour pressure deficit in $kPa$."
   ]
  },
  {
   "cell_type": "code",
   "execution_count": 7,
   "id": "ac8f7463",
   "metadata": {
    "scrolled": false
   },
   "outputs": [
    {
     "name": "stdout",
     "output_type": "stream",
     "text": [
      "               Tair      Qair     Psurf  CO2air  SWdown       VPD\n",
      "time                                                             \n",
      "0.0         289.322  0.006778  101608.0  418.56     0.0  0.735601\n",
      "1800.0      289.322  0.006778  101608.0  418.56     0.0  0.735601\n",
      "3600.0      287.886  0.006796  101628.0  418.56     0.0  0.570751\n",
      "5400.0      287.886  0.006796  101628.0  418.56     0.0  0.570751\n",
      "7200.0      286.193  0.006731  101659.0  418.56     0.0  0.406239\n",
      "...             ...       ...       ...     ...     ...       ...\n",
      "31527000.0  285.735  0.006571   99948.7  418.56     0.0  0.405833\n",
      "31528800.0  286.414  0.006736   99905.7  418.56     0.0  0.446249\n",
      "31530600.0  286.414  0.006736   99905.7  418.56     0.0  0.446249\n",
      "31532400.0  285.521  0.007251   99803.2  418.56     0.0  0.278827\n",
      "31534200.0  285.521  0.007251   99803.2  418.56     0.0  0.278827\n",
      "\n",
      "[17520 rows x 6 columns]\n"
     ]
    }
   ],
   "source": [
    "metoffice_data['VPD'] = vapour_pressure_deficit(metoffice_data['Tair'],  # K\n",
    "                                                metoffice_data['Qair'],  # kg kg-1\n",
    "                                                metoffice_data['Psurf'], # Pa\n",
    "                                                minimum = 0.05) # kPa\n",
    "\n",
    "print(metoffice_data)"
   ]
  },
  {
   "cell_type": "markdown",
   "id": "e81651c1",
   "metadata": {},
   "source": [
    "It is also necessary to calculate the amount of photosyntheticaly active radiation from the short wave radiation."
   ]
  },
  {
   "cell_type": "code",
   "execution_count": 8,
   "id": "04b99582",
   "metadata": {
    "scrolled": false
   },
   "outputs": [
    {
     "name": "stdout",
     "output_type": "stream",
     "text": [
      "               Tair      Qair     Psurf  CO2air  SWdown       VPD  \\\n",
      "time                                                                \n",
      "0.0         289.322  0.006778  101608.0  418.56     0.0  0.735601   \n",
      "1800.0      289.322  0.006778  101608.0  418.56     0.0  0.735601   \n",
      "3600.0      287.886  0.006796  101628.0  418.56     0.0  0.570751   \n",
      "5400.0      287.886  0.006796  101628.0  418.56     0.0  0.570751   \n",
      "7200.0      286.193  0.006731  101659.0  418.56     0.0  0.406239   \n",
      "...             ...       ...       ...     ...     ...       ...   \n",
      "31527000.0  285.735  0.006571   99948.7  418.56     0.0  0.405833   \n",
      "31528800.0  286.414  0.006736   99905.7  418.56     0.0  0.446249   \n",
      "31530600.0  286.414  0.006736   99905.7  418.56     0.0  0.446249   \n",
      "31532400.0  285.521  0.007251   99803.2  418.56     0.0  0.278827   \n",
      "31534200.0  285.521  0.007251   99803.2  418.56     0.0  0.278827   \n",
      "\n",
      "            Photosynthetically active radiation  \n",
      "time                                             \n",
      "0.0                                         0.0  \n",
      "1800.0                                      0.0  \n",
      "3600.0                                      0.0  \n",
      "5400.0                                      0.0  \n",
      "7200.0                                      0.0  \n",
      "...                                         ...  \n",
      "31527000.0                                  0.0  \n",
      "31528800.0                                  0.0  \n",
      "31530600.0                                  0.0  \n",
      "31532400.0                                  0.0  \n",
      "31534200.0                                  0.0  \n",
      "\n",
      "[17520 rows x 7 columns]\n"
     ]
    }
   ],
   "source": [
    "metoffice_data['Photosynthetically active radiation'] = short_wave_to_photosynthetically_active_radiation(metoffice_data['SWdown'])\n",
    "\n",
    "metoffice_data['Photosynthetically active radiation'] = light_energy_in_joules_to_micro_moles_of_light(metoffice_data['Photosynthetically active radiation'])\n",
    "\n",
    "print(metoffice_data)"
   ]
  },
  {
   "cell_type": "markdown",
   "id": "98181cd3",
   "metadata": {},
   "source": [
    "The model takes in the srface air pressure in $\\text{kPa}$ so we need to convert from $\\text{Pa}$"
   ]
  },
  {
   "cell_type": "code",
   "execution_count": 9,
   "id": "303976d0",
   "metadata": {},
   "outputs": [],
   "source": [
    "metoffice_data['Psurf'] = magnitude_conversion(metoffice_data['Psurf'], '', 'k')"
   ]
  },
  {
   "cell_type": "markdown",
   "id": "c2edc1a5",
   "metadata": {},
   "source": [
    "The $\\text{CO}_2$ concetration is currently in parts per million which is equivilent to $\\mu \\text{mol mol}^{-1}$ so there is no need to convert this."
   ]
  },
  {
   "cell_type": "code",
   "execution_count": 10,
   "id": "158e38e7",
   "metadata": {
    "scrolled": false
   },
   "outputs": [
    {
     "name": "stdout",
     "output_type": "stream",
     "text": [
      "time\n",
      "0.0           418.56\n",
      "1800.0        418.56\n",
      "3600.0        418.56\n",
      "5400.0        418.56\n",
      "7200.0        418.56\n",
      "               ...  \n",
      "31527000.0    418.56\n",
      "31528800.0    418.56\n",
      "31530600.0    418.56\n",
      "31532400.0    418.56\n",
      "31534200.0    418.56\n",
      "Name: CO2air, Length: 17520, dtype: float64\n"
     ]
    }
   ],
   "source": [
    "print(metoffice_data['CO2air'])"
   ]
  },
  {
   "cell_type": "markdown",
   "id": "6c186639",
   "metadata": {},
   "source": [
    "The time column here is not in the format we necesseraly want so lets create another column with the date and time of each measurement."
   ]
  },
  {
   "cell_type": "code",
   "execution_count": 11,
   "id": "5e1235e8",
   "metadata": {
    "scrolled": false
   },
   "outputs": [
    {
     "name": "stdout",
     "output_type": "stream",
     "text": [
      "                        Tair      Qair     Psurf  CO2air  SWdown       VPD  \\\n",
      "date time                                                                    \n",
      "2022-01-01 00:00:00  289.322  0.006778  101.6080  418.56     0.0  0.735601   \n",
      "2022-01-01 00:30:00  289.322  0.006778  101.6080  418.56     0.0  0.735601   \n",
      "2022-01-01 01:00:00  287.886  0.006796  101.6280  418.56     0.0  0.570751   \n",
      "2022-01-01 01:30:00  287.886  0.006796  101.6280  418.56     0.0  0.570751   \n",
      "2022-01-01 02:00:00  286.193  0.006731  101.6590  418.56     0.0  0.406239   \n",
      "...                      ...       ...       ...     ...     ...       ...   \n",
      "2022-12-31 21:30:00  285.735  0.006571   99.9487  418.56     0.0  0.405833   \n",
      "2022-12-31 22:00:00  286.414  0.006736   99.9057  418.56     0.0  0.446249   \n",
      "2022-12-31 22:30:00  286.414  0.006736   99.9057  418.56     0.0  0.446249   \n",
      "2022-12-31 23:00:00  285.521  0.007251   99.8032  418.56     0.0  0.278827   \n",
      "2022-12-31 23:30:00  285.521  0.007251   99.8032  418.56     0.0  0.278827   \n",
      "\n",
      "                     Photosynthetically active radiation  \n",
      "date time                                                 \n",
      "2022-01-01 00:00:00                                  0.0  \n",
      "2022-01-01 00:30:00                                  0.0  \n",
      "2022-01-01 01:00:00                                  0.0  \n",
      "2022-01-01 01:30:00                                  0.0  \n",
      "2022-01-01 02:00:00                                  0.0  \n",
      "...                                                  ...  \n",
      "2022-12-31 21:30:00                                  0.0  \n",
      "2022-12-31 22:00:00                                  0.0  \n",
      "2022-12-31 22:30:00                                  0.0  \n",
      "2022-12-31 23:00:00                                  0.0  \n",
      "2022-12-31 23:30:00                                  0.0  \n",
      "\n",
      "[17520 rows x 7 columns]\n"
     ]
    }
   ],
   "source": [
    "units, reference_date = metoffice_data_file.time.attrs['units'].split('since')\n",
    "\n",
    "start = reference_date.strip()[0:19].replace(\"-\",\"/\")\n",
    "\n",
    "metoffice_data['date time'] = date_range(start = start, periods = len(metoffice_data), freq = '30MIN')\n",
    "\n",
    "metoffice_data = metoffice_data.set_index('date time')\n",
    "\n",
    "print(metoffice_data)"
   ]
  },
  {
   "cell_type": "markdown",
   "id": "1beb8c81",
   "metadata": {},
   "source": [
    "Lets plot the values from the metofice data that are to be input into the optimisation model."
   ]
  },
  {
   "cell_type": "code",
   "execution_count": 12,
   "id": "ee4c5871",
   "metadata": {
    "scrolled": false
   },
   "outputs": [
    {
     "data": {
      "image/png": "[encoded data removed]",
      "text/plain": [
       "<Figure size 640x480 with 1 Axes>"
      ]
     },
     "metadata": {},
     "output_type": "display_data"
    },
    {
     "data": {
      "image/png": "[encoded data removed]",
      "text/plain": [
       "<Figure size 640x480 with 1 Axes>"
      ]
     },
     "metadata": {},
     "output_type": "display_data"
    },
    {
     "data": {
      "image/png": "[encoded data removed]",
      "text/plain": [
       "<Figure size 640x480 with 1 Axes>"
      ]
     },
     "metadata": {},
     "output_type": "display_data"
    },
    {
     "data": {
      "image/png": "[encoded data removed]",
      "text/plain": [
       "<Figure size 640x480 with 1 Axes>"
      ]
     },
     "metadata": {},
     "output_type": "display_data"
    },
    {
     "data": {
      "image/png": "[encoded data removed]",
      "text/plain": [
       "<Figure size 640x480 with 1 Axes>"
      ]
     },
     "metadata": {},
     "output_type": "display_data"
    }
   ],
   "source": [
    "plt.plot(metoffice_data.index, metoffice_data['Tair'])\n",
    "plt.xlabel(\"Date\")\n",
    "plt.ylabel(\"Air temperature (K)\")\n",
    "plt.show()\n",
    "\n",
    "plt.plot(metoffice_data.index, metoffice_data['VPD'])\n",
    "plt.xlabel(\"Date\")\n",
    "plt.ylabel(\"VPD (kPa)\")\n",
    "plt.show()\n",
    "\n",
    "plt.plot(metoffice_data.index, metoffice_data['Psurf'])\n",
    "plt.xlabel(\"Date\")\n",
    "plt.ylabel(\"Surface air pressure (kPa)\")\n",
    "plt.show()\n",
    "\n",
    "plt.plot(metoffice_data.index, metoffice_data['CO2air'])\n",
    "plt.xlabel(\"Date\")\n",
    "plt.ylabel(\"Atmostpheric CO2 concentration (ppm or umol mol-1)\")\n",
    "plt.show()\n",
    "\n",
    "plt.plot(metoffice_data.index, metoffice_data['Photosynthetically active radiation'])\n",
    "plt.xlabel(\"Date\")\n",
    "plt.ylabel(\"Photosynthetically active radiation (umol m-2 s-1)\")\n",
    "plt.show()"
   ]
  },
  {
   "cell_type": "markdown",
   "id": "924944ed",
   "metadata": {},
   "source": [
    "## Missing model inputs\n",
    "\n",
    "The data available within the file doesn't contain the soil water potential or intercellular oxygen concentration. We elect to set the value for the intercellular oxygen as a constant with time. The code used later takes this values in as an array of the same size as time steps so we need to create one and add it to the pandas data frame."
   ]
  },
  {
   "cell_type": "code",
   "execution_count": 13,
   "id": "a7002a28",
   "metadata": {
    "scrolled": false
   },
   "outputs": [
    {
     "name": "stdout",
     "output_type": "stream",
     "text": [
      "                        Tair      Qair     Psurf  CO2air  SWdown       VPD  \\\n",
      "date time                                                                    \n",
      "2022-01-01 00:00:00  289.322  0.006778  101.6080  418.56     0.0  0.735601   \n",
      "2022-01-01 00:30:00  289.322  0.006778  101.6080  418.56     0.0  0.735601   \n",
      "2022-01-01 01:00:00  287.886  0.006796  101.6280  418.56     0.0  0.570751   \n",
      "2022-01-01 01:30:00  287.886  0.006796  101.6280  418.56     0.0  0.570751   \n",
      "2022-01-01 02:00:00  286.193  0.006731  101.6590  418.56     0.0  0.406239   \n",
      "...                      ...       ...       ...     ...     ...       ...   \n",
      "2022-12-31 21:30:00  285.735  0.006571   99.9487  418.56     0.0  0.405833   \n",
      "2022-12-31 22:00:00  286.414  0.006736   99.9057  418.56     0.0  0.446249   \n",
      "2022-12-31 22:30:00  286.414  0.006736   99.9057  418.56     0.0  0.446249   \n",
      "2022-12-31 23:00:00  285.521  0.007251   99.8032  418.56     0.0  0.278827   \n",
      "2022-12-31 23:30:00  285.521  0.007251   99.8032  418.56     0.0  0.278827   \n",
      "\n",
      "                     Photosynthetically active radiation  intercellular oxygen  \n",
      "date time                                                                       \n",
      "2022-01-01 00:00:00                                  0.0                 210.0  \n",
      "2022-01-01 00:30:00                                  0.0                 210.0  \n",
      "2022-01-01 01:00:00                                  0.0                 210.0  \n",
      "2022-01-01 01:30:00                                  0.0                 210.0  \n",
      "2022-01-01 02:00:00                                  0.0                 210.0  \n",
      "...                                                  ...                   ...  \n",
      "2022-12-31 21:30:00                                  0.0                 210.0  \n",
      "2022-12-31 22:00:00                                  0.0                 210.0  \n",
      "2022-12-31 22:30:00                                  0.0                 210.0  \n",
      "2022-12-31 23:00:00                                  0.0                 210.0  \n",
      "2022-12-31 23:30:00                                  0.0                 210.0  \n",
      "\n",
      "[17520 rows x 8 columns]\n"
     ]
    }
   ],
   "source": [
    "intercellular_oxygen = 210.0 #(umol mol-1)\n",
    "\n",
    "metoffice_data['intercellular oxygen'] = intercellular_oxygen\n",
    "\n",
    "print(metoffice_data)"
   ]
  },
  {
   "cell_type": "markdown",
   "id": "b0238774",
   "metadata": {},
   "source": [
    "The soil water potential we get from the CABLE simulation for this site. The code bellow loads this file and pulls out the wated soil water potential. The reason we are using a weighted soil water potential is that CABLE models the soil as a set of six coupled water buckets aranged verticaly while the model used here treats it as a single bucket."
   ]
  },
  {
   "cell_type": "code",
   "execution_count": 14,
   "id": "1c88a0c5",
   "metadata": {
    "scrolled": false
   },
   "outputs": [
    {
     "name": "stdout",
     "output_type": "stream",
     "text": [
      "date time\n",
      "2022-01-01 00:00:00   -0.029366\n",
      "2022-01-01 00:30:00   -0.029344\n",
      "2022-01-01 01:00:00   -0.029325\n",
      "2022-01-01 01:30:00   -0.029308\n",
      "2022-01-01 02:00:00   -0.029291\n",
      "                         ...   \n",
      "2022-12-31 21:30:00   -0.004438\n",
      "2022-12-31 22:00:00   -0.004484\n",
      "2022-12-31 22:30:00   -0.004527\n",
      "2022-12-31 23:00:00   -0.004567\n",
      "2022-12-31 23:30:00   -0.004604\n",
      "Name: soil water potential, Length: 17520, dtype: float32\n"
     ]
    },
    {
     "data": {
      "image/png": "[encoded data removed]",
      "text/plain": [
       "<Figure size 640x480 with 1 Axes>"
      ]
     },
     "metadata": {},
     "output_type": "display_data"
    }
   ],
   "source": [
    "CABLE_data_file_address = \"../../Example met data/hydraulics_profitmax_manon.nc\"\n",
    "\n",
    "# Load file\n",
    "CABLE_data = open_dataset(CABLE_data_file_address, decode_times=False)\n",
    "\n",
    "# Reduce to relevant columns\n",
    "CABLE_data = CABLE_data[['psi_rootzone']]\n",
    "\n",
    "# Reduce dimentions\n",
    "CABLE_data = CABLE_data.squeeze(dim=[\"x\", \"y\", \"patch\"], drop = True)\n",
    "\n",
    "# Get start date\n",
    "CABLE_units, CABLE_reference_date = CABLE_data.time.attrs['units'].split('since')\n",
    "\n",
    "# Change start date formating\n",
    "CABLE_start_date = CABLE_reference_date.strip()[0:19].replace(\"-\",\"/\")\n",
    "\n",
    "# Convert to pandas object\n",
    "CABLE_data = CABLE_data.to_pandas()\n",
    "\n",
    "# Add date time column (this needs to be done affter converting to pandas or it is treated as an aditional dimention)\n",
    "CABLE_data['date time'] = date_range(start = CABLE_start_date, periods = len(CABLE_data), freq = '30MIN')\n",
    "\n",
    "# Set the 'date time' colun as an index\n",
    "CABLE_data = CABLE_data.set_index('date time')\n",
    "\n",
    "# Add to environmental properties data frame\n",
    "metoffice_data['soil water potential'] = CABLE_data['psi_rootzone']\n",
    "\n",
    "print(metoffice_data['soil water potential'])\n",
    "\n",
    "plt.plot(metoffice_data.index, metoffice_data['soil water potential'])\n",
    "plt.xlabel(\"Date\")\n",
    "plt.ylabel(\"Soil water potential (MPa)\")\n",
    "plt.show()"
   ]
  },
  {
   "cell_type": "markdown",
   "id": "a8c59056",
   "metadata": {},
   "source": [
    "## Resampling the data\n",
    "\n",
    "Currently the met data we are working with contains a years worth of measurments seperated byhalf an hour totaling $17520$ entries. To reduce the computation time we will reduce the data to be every six hours (reducing the data to $1460$ entries)."
   ]
  },
  {
   "cell_type": "code",
   "execution_count": 15,
   "id": "f1075b37",
   "metadata": {
    "scrolled": false
   },
   "outputs": [
    {
     "name": "stdout",
     "output_type": "stream",
     "text": [
      "resample step:  8 \n",
      "\n",
      "                        Tair      Qair     Psurf  CO2air      SWdown  \\\n",
      "date time                                                              \n",
      "2022-01-01 00:00:00  289.322  0.006778  101.6080  418.56    0.000000   \n",
      "2022-01-01 04:00:00  285.595  0.006819  101.6600  418.56    0.000000   \n",
      "2022-01-01 08:00:00  284.676  0.006887  101.8470  418.56    0.029130   \n",
      "2022-01-01 12:00:00  287.113  0.007292  102.0500  418.56  149.086957   \n",
      "2022-01-01 16:00:00  286.181  0.007710  102.1730  418.56    5.426087   \n",
      "...                      ...       ...       ...     ...         ...   \n",
      "2022-12-31 04:00:00  287.178  0.007657   99.6126  418.56    0.000000   \n",
      "2022-12-31 08:00:00  285.315  0.006870   99.3057  418.56    0.000000   \n",
      "2022-12-31 12:00:00  285.686  0.006994   98.6717  418.56   17.734783   \n",
      "2022-12-31 16:00:00  290.427  0.007072   98.3858  418.56    0.873043   \n",
      "2022-12-31 20:00:00  285.059  0.006329  100.0720  418.56    0.000000   \n",
      "\n",
      "                          VPD  Photosynthetically active radiation  \\\n",
      "date time                                                            \n",
      "2022-01-01 00:00:00  0.735601                             0.000000   \n",
      "2022-01-01 04:00:00  0.334301                             0.000000   \n",
      "2022-01-01 08:00:00  0.236233                             0.066563   \n",
      "2022-01-01 12:00:00  0.403623                           340.663696   \n",
      "2022-01-01 16:00:00  0.240142                            12.398609   \n",
      "...                       ...                                  ...   \n",
      "2022-12-31 04:00:00  0.380918                             0.000000   \n",
      "2022-12-31 08:00:00  0.325549                             0.000000   \n",
      "2022-12-31 12:00:00  0.348036                            40.523978   \n",
      "2022-12-31 16:00:00  0.858038                             1.994904   \n",
      "2022-12-31 20:00:00  0.379708                             0.000000   \n",
      "\n",
      "                     intercellular oxygen  soil water potential  \n",
      "date time                                                        \n",
      "2022-01-01 00:00:00                 210.0             -0.029366  \n",
      "2022-01-01 04:00:00                 210.0             -0.029237  \n",
      "2022-01-01 08:00:00                 210.0             -0.029154  \n",
      "2022-01-01 12:00:00                 210.0             -0.029166  \n",
      "2022-01-01 16:00:00                 210.0             -0.029211  \n",
      "...                                   ...                   ...  \n",
      "2022-12-31 04:00:00                 210.0             -0.005587  \n",
      "2022-12-31 08:00:00                 210.0             -0.005537  \n",
      "2022-12-31 12:00:00                 210.0             -0.004878  \n",
      "2022-12-31 16:00:00                 210.0             -0.004076  \n",
      "2022-12-31 20:00:00                 210.0             -0.004280  \n",
      "\n",
      "[2190 rows x 9 columns]\n"
     ]
    }
   ],
   "source": [
    "current_time_step = 0.5 #h\n",
    "target_time_step = 4 #h\n",
    "\n",
    "resample_step = int(target_time_step / current_time_step)\n",
    "print(\"resample step: \", resample_step, \"\\n\")\n",
    "\n",
    "metoffice_data = metoffice_data.iloc[::resample_step, :]\n",
    "\n",
    "print(metoffice_data)"
   ]
  },
  {
   "cell_type": "markdown",
   "id": "55fbdc62",
   "metadata": {},
   "source": [
    "# Applying the model\n",
    "\n",
    "Now that we have the necessary data the next step is to creat the model.\n",
    "\n",
    "## Hydraulic cost model"
   ]
  },
  {
   "cell_type": "code",
   "execution_count": 16,
   "id": "ea7ec9db",
   "metadata": {
    "scrolled": false
   },
   "outputs": [
    {
     "name": "stdout",
     "output_type": "stream",
     "text": [
      "critical leaf water potential:  -9.652266781105459 mmol m-2 s-1 MPa-1\n"
     ]
    }
   ],
   "source": [
    "hydraulic_conductance_model = \\\n",
    "    CumulativeWeibullDistribution(maximum_conductance = 1.6659, # mmol m-2 s-1 MPa-1\n",
    "                                  sensitivity_parameter = -7.740170420442604, # MPa\n",
    "                                  shape_parameter = 4.969847639573251) # unitless\n",
    "\n",
    "\n",
    "critical_leaf_water_potential = hydraulic_conductance_model.water_potential_from_conductivity_loss_fraction(0.95)\n",
    "\n",
    "print(\"critical leaf water potential: \", critical_leaf_water_potential, \"mmol m-2 s-1 MPa-1\")\n",
    "\n",
    "hydraulic_cost_model = HydraulicCostModel(hydraulic_conductance_model = hydraulic_conductance_model,\n",
    "                                          critical_leaf_water_potential = critical_leaf_water_potential)"
   ]
  },
  {
   "cell_type": "markdown",
   "id": "abb8e023",
   "metadata": {},
   "source": [
    "## Leaf atmostpher coupling"
   ]
  },
  {
   "cell_type": "code",
   "execution_count": 17,
   "id": "3110a5bc",
   "metadata": {
    "scrolled": false
   },
   "outputs": [],
   "source": [
    "leaf_air_coupling_model = LeafAirCouplingModel()"
   ]
  },
  {
   "cell_type": "markdown",
   "id": "02c17229",
   "metadata": {},
   "source": [
    "## Photosynthesis model\n",
    "### Rubisco rate limited"
   ]
  },
  {
   "cell_type": "code",
   "execution_count": 18,
   "id": "6c77ca23",
   "metadata": {
    "scrolled": false
   },
   "outputs": [
    {
     "name": "stdout",
     "output_type": "stream",
     "text": [
      "<src.TemperatureDependenceModels.arrhenius_and_peaked_arrhenius_function.ArrheniusModel object at 0x155019750>\n"
     ]
    }
   ],
   "source": [
    "# -- Rubisco rates model --\n",
    "maximum_carboxylation_rate_model = PeakedArrheniusModel(rate_at_25_centigrade = 30.,\n",
    "                                                        activation_energy = 60000.,\n",
    "                                                        deactivation_energy = 200000.,\n",
    "                                                        entropy_term = 650.)\n",
    "\n",
    "maximum_oxegentation_rate_model = PeakedArrheniusModel(rate_at_25_centigrade = 60.,\n",
    "                                                       activation_energy = 30000.,\n",
    "                                                       deactivation_energy = 200000.,\n",
    "                                                       entropy_term = 650.)\n",
    "\n",
    "michaelis_menten_constant_CO2_model = ArrheniusModel(rate_at_25_centigrade=404.9,\n",
    "                                                     activation_energy=79430.0)\n",
    "\n",
    "michaelis_menten_constant_O_model = ArrheniusModel(rate_at_25_centigrade=278.4,\n",
    "                                                   activation_energy=36380.0)\n",
    "\n",
    "rubisco_rates_model = RubiscoRates(maximum_carboxylation_rate_model,\n",
    "                                   maximum_oxegentation_rate_model,\n",
    "                                   michaelis_menten_constant_CO2_model,\n",
    "                                   michaelis_menten_constant_O_model)\n",
    "\n",
    "# -- CO2 compensation point --\n",
    "CO2_compensation_point_model = ArrheniusModel(rate_at_25_centigrade = 42.75,\n",
    "                                              activation_energy = 37830.0)\n",
    "\n",
    "# -- mitochondrial respiration rate model --\n",
    "mitochondrial_respiration_rate_model = Q10TemperatureDependenceModel(value_at_25C = 0.6,\n",
    "                                                                     Q10_parameter = 2.)\n",
    "\n",
    "# -- Rubisco limited model --\n",
    "photosynthesis_rubisco_limited_model = PhotosynthesisModelRubiscoLimited(rubisco_rates_model = rubisco_rates_model,\n",
    "                                                                         CO2_compensation_point_model = CO2_compensation_point_model,\n",
    "                                                                         mitochondrial_respiration_rate_model = mitochondrial_respiration_rate_model)"
   ]
  },
  {
   "cell_type": "markdown",
   "id": "b0c17edc",
   "metadata": {},
   "source": [
    "### Electron transport limited model"
   ]
  },
  {
   "cell_type": "code",
   "execution_count": 19,
   "id": "8e92b587",
   "metadata": {
    "scrolled": false
   },
   "outputs": [],
   "source": [
    "# -- Electron transport rate --\n",
    "maximum_electron_transport_rate_model = LowTemperatureAdjustedModel(PeakedArrheniusModel(rate_at_25_centigrade = 60., \n",
    "                                                                                         activation_energy = 30000., \n",
    "                                                                                         deactivation_energy = 200000., \n",
    "                                                                                         entropy_term = 650.),\n",
    "                                                                   lower_bound_C = 0.,\n",
    "                                                                   upper_bound_C = 10.)\n",
    "\n",
    "electron_transport_rate_model = ElectronTransportRateModel(curvature_parameter = 0.85,\n",
    "                                                           maximum_electron_transport_rate_model = maximum_electron_transport_rate_model)\n",
    "\n",
    "# -- Electron transport rate limmited model --\n",
    "# Note the CO2 compensation point and mitochondrial respiration rate models are the same as that for the Rubisco limited model\n",
    "photosynthesis_electron_transport_limited_model = PhotosynthesisModelElectronTransportLimited(electron_transport_rate_model = electron_transport_rate_model,\n",
    "                                                                                              CO2_compensation_point_model = CO2_compensation_point_model,\n",
    "                                                                                              mitochondrial_respiration_rate_model = mitochondrial_respiration_rate_model,\n",
    "                                                                                              rubisco_rates_model=rubisco_rates_model)"
   ]
  },
  {
   "cell_type": "markdown",
   "id": "540ba269",
   "metadata": {},
   "source": [
    "### Combined model"
   ]
  },
  {
   "cell_type": "code",
   "execution_count": 20,
   "id": "5af8f9a5",
   "metadata": {
    "scrolled": false
   },
   "outputs": [],
   "source": [
    "photosynthesis_model = PhotosynthesisModel(photosynthesis_rubisco_limited_model = photosynthesis_rubisco_limited_model,\n",
    "                                           photosynthesis_electron_transport_limited_model = photosynthesis_electron_transport_limited_model)"
   ]
  },
  {
   "cell_type": "markdown",
   "id": "7c9867a5",
   "metadata": {},
   "source": [
    "## CO2 gain model"
   ]
  },
  {
   "cell_type": "code",
   "execution_count": 21,
   "id": "7db4a062",
   "metadata": {
    "scrolled": false
   },
   "outputs": [],
   "source": [
    "CO2_gain_model = CO2GainModel(leaf_air_coupling_model,\n",
    "                              photosynthesis_model)"
   ]
  },
  {
   "cell_type": "markdown",
   "id": "fe0ec341",
   "metadata": {},
   "source": [
    "## Profit optimisation model"
   ]
  },
  {
   "cell_type": "code",
   "execution_count": 22,
   "id": "2f357d18",
   "metadata": {
    "scrolled": false
   },
   "outputs": [],
   "source": [
    "profit_optimisation_model = ProfitMaxModel(hydraulic_cost_model,\n",
    "                                           leaf_air_coupling_model,\n",
    "                                           CO2_gain_model)"
   ]
  },
  {
   "cell_type": "markdown",
   "id": "9cdb87fa",
   "metadata": {},
   "source": [
    "## Running the model on real data\n",
    "We can now apply the model to calculate the optimal leaf water potential along with the net CO2 uptake and transpiration rate."
   ]
  },
  {
   "cell_type": "code",
   "execution_count": null,
   "id": "05ff1ae6",
   "metadata": {},
   "outputs": [],
   "source": [
    "model_results = metoffice_data.copy()\n",
    "\n",
    "(model_results['leaf water potential'],\n",
    " model_results['net CO2 uptake'],\n",
    " model_results['transpiration rates'],\n",
    " model_results['intercellular CO2 concentration'],\n",
    " model_results['stomatal conductance to CO2']) = \\\n",
    "    run_optimisation_model_on_data(profit_optimisation_model,\n",
    "                                   time_steps = model_results.index.to_numpy(),\n",
    "                                   soil_water_potential_values = model_results['soil water potential'].to_numpy(),\n",
    "                                   air_temperature_values = model_results['Tair'].to_numpy(),\n",
    "                                   air_vapour_pressure_deficit_values = model_results['VPD'].to_numpy(),\n",
    "                                   air_pressure_values = model_results['Psurf'].to_numpy(),\n",
    "                                   atmospheric_CO2_concentration_values = model_results['CO2air'].to_numpy(),\n",
    "                                   intercellular_oxygen_values = model_results['intercellular oxygen'].to_numpy(),\n",
    "                                   photosynthetically_active_radiation_values = model_results['Photosynthetically active radiation'].to_numpy(),\n",
    "                                   number_of_leaf_water_potential_sample_points = 100)"
   ]
  },
  {
   "cell_type": "markdown",
   "id": "6574bb8c",
   "metadata": {},
   "source": [
    "# Plotting the ressults\n",
    "\n",
    "Having applied the model to the met data we can plot how the results change over the year."
   ]
  },
  {
   "cell_type": "code",
   "execution_count": null,
   "id": "f5c566b5",
   "metadata": {
    "scrolled": false
   },
   "outputs": [],
   "source": [
    "fig, axis = plt.subplots(5, sharex=True)\n",
    "\n",
    "# Plot the data\n",
    "axis[0].plot(model_results.index.to_numpy(), model_results['net CO2 uptake'].to_numpy())\n",
    "axis[1].plot(model_results.index.to_numpy(), model_results['transpiration rates'].to_numpy())\n",
    "axis[2].plot(model_results.index.to_numpy(), model_results['leaf water potential'].to_numpy())\n",
    "axis[3].plot(model_results.index.to_numpy(), model_results['intercellular CO2 concentration'].to_numpy())\n",
    "axis[4].plot(model_results.index.to_numpy(), model_results['stomatal conductance to CO2'].to_numpy())\n",
    "\n",
    "# Add labels\n",
    "axis[0].set_ylabel(\"net CO2 uptake (umol m-2 s-1)\")\n",
    "axis[1].set_ylabel(\"transpiration rate (mmol m-2 s-1)\")\n",
    "axis[2].set_ylabel(\"Leaf water potential (MPa)\")\n",
    "axis[3].set_ylabel(\"Intercellular CO2 concentration (umol mol-1)\")\n",
    "axis[4].set_ylabel(\"Stomatal conductance to CO2 (mmol m-2 s-1)\")\n",
    "axis[4].set_xlabel(\"date\")\n",
    "\n",
    "# Remove vertical space between sublpots\n",
    "fig.subplots_adjust(hspace = 0)\n",
    "\n",
    "# Set figure size\n",
    "fig.set_size_inches(10,15)"
   ]
  },
  {
   "cell_type": "markdown",
   "id": "b638b77a",
   "metadata": {},
   "source": [
    "For consistency later we want to change the $\\text{CO}_2$ uptake from $\\text{umol m}^{-2}\\text{ s}^{-1}$ to $\\text{g C m}^{-2}\\text{ s}^{-1}$."
   ]
  },
  {
   "cell_type": "code",
   "execution_count": null,
   "id": "4997aaec",
   "metadata": {
    "scrolled": false
   },
   "outputs": [],
   "source": [
    "print(model_results['net CO2 uptake'])\n",
    "\n",
    "model_results['net CO2 uptake umol m-2 s-1'] = model_results['net CO2 uptake']\n",
    "\n",
    "# Convert from umol to mol\n",
    "model_results['net CO2 uptake'] = magnitude_conversion(model_results['net CO2 uptake'], 'u', '')\n",
    "\n",
    "print(model_results['net CO2 uptake'])\n",
    "\n",
    "# Convert from mol to g\n",
    "model_results['net CO2 uptake'] = mole_carbon_to_grams(model_results['net CO2 uptake'])\n",
    "\n",
    "print(model_results['net CO2 uptake'])"
   ]
  },
  {
   "cell_type": "markdown",
   "id": "ec44b5a7",
   "metadata": {},
   "source": [
    "We also want to convert the transpiraion rate from $\\text{mmol m}^{-2}\\text{ s}^{-1}$ to $\\text{Wm}^{-2}$"
   ]
  },
  {
   "cell_type": "code",
   "execution_count": null,
   "id": "cde933a3",
   "metadata": {
    "scrolled": false
   },
   "outputs": [],
   "source": [
    "model_results['latent energy'] = magnitude_conversion(model_results['transpiration rates'], 'm', '')\n",
    "\n",
    "model_results['latent energy'] = convert_transpiration_rate_to_latent_energy(model_results['latent energy'], model_results['Tair'])"
   ]
  },
  {
   "cell_type": "markdown",
   "id": "a1471257",
   "metadata": {},
   "source": [
    "Having made these changes we can replot the results of the model"
   ]
  },
  {
   "cell_type": "code",
   "execution_count": null,
   "id": "fd0c3a82",
   "metadata": {
    "scrolled": false
   },
   "outputs": [],
   "source": [
    "fig, axis = plt.subplots(5, sharex=True)\n",
    "\n",
    "# Plot the data\n",
    "axis[0].plot(model_results.index.to_numpy(), model_results['net CO2 uptake'].to_numpy())\n",
    "axis[1].plot(model_results.index.to_numpy(), model_results['latent energy'].to_numpy())\n",
    "axis[2].plot(model_results.index.to_numpy(), model_results['leaf water potential'].to_numpy())\n",
    "axis[3].plot(model_results.index.to_numpy(), model_results['intercellular CO2 concentration'].to_numpy())\n",
    "axis[4].plot(model_results.index.to_numpy(), model_results['stomatal conductance to CO2'].to_numpy())\n",
    "\n",
    "# Add labels\n",
    "axis[0].set_ylabel(\"net CO2 uptake (g m-2 s-1)\")\n",
    "axis[1].set_ylabel(\"Latent energy (Wm-2)\")\n",
    "axis[2].set_ylabel(\"Leaf water potential (MPa)\")\n",
    "axis[3].set_ylabel(\"Intercellular CO2 concentration (umol mol-1)\")\n",
    "axis[4].set_ylabel(\"Stomatal conductance to CO2 (mmol m-2 s-1)\")\n",
    "axis[4].set_xlabel(\"date\")\n",
    "\n",
    "# Remove vertical space between sublpots\n",
    "fig.subplots_adjust(hspace = 0)\n",
    "\n",
    "# Set figure size\n",
    "fig.set_size_inches(10,15)"
   ]
  },
  {
   "cell_type": "markdown",
   "id": "3529599c",
   "metadata": {},
   "source": [
    "There is a lot of noise in these plots, this is due to us ploting the results every half hour throughout the day. To solve this problem we resample the net $CO_2$ uptake to per day, calculate the mean transpiration rate for each day and record the leaf water potential at pre dawn (6 am) and midday."
   ]
  },
  {
   "cell_type": "code",
   "execution_count": null,
   "id": "12eeda0c",
   "metadata": {
    "scrolled": false
   },
   "outputs": [],
   "source": [
    "# We want the net CO2 per day and the average transpiration rate so lets use padas resample\n",
    "model_results_per_day = model_results[['net CO2 uptake', 'latent energy', 'transpiration rates', 'intercellular CO2 concentration', 'stomatal conductance to CO2', 'CO2air']].copy()\n",
    "\n",
    "# net CO2 uptake is currently per second so we need to convert to per timestep\n",
    "model_results_per_day['net CO2 uptake'] = model_results_per_day['net CO2 uptake'] * target_time_step * 60 * 60\n",
    "\n",
    "# Resample per time step to per day\n",
    "model_results_per_day = model_results_per_day.resample('D').agg({'net CO2 uptake':'sum', 'latent energy':'mean', 'transpiration rates':'mean', 'intercellular CO2 concentration':'mean', 'stomatal conductance to CO2':'mean', 'CO2air':'mean'})\n",
    "\n",
    "# Get the predawn and miday leaf water potential. This code shifts the values to the start of the day then pandas matches them based on the asigned time\n",
    "model_results_per_day['predawn leaf water potential'] = model_results['leaf water potential'].resample(\"D\", offset = \"4h\").asfreq().iloc[1:].to_numpy()\n",
    "model_results_per_day['midday leaf water potential'] = model_results['leaf water potential'].resample(\"D\", offset = \"12h\" ).asfreq().iloc[1:].to_numpy()\n",
    "model_results_per_day['Tair midday'] = model_results['Tair'].resample(\"D\", offset = '12h').asfreq().iloc[1:].to_numpy()\n",
    "model_results_per_day['soil water potential midday'] = model_results['soil water potential'].resample(\"D\", offset = '12h').asfreq().iloc[1:].to_numpy()\n",
    "\n",
    "print(model_results_per_day)"
   ]
  },
  {
   "cell_type": "markdown",
   "id": "4ed0c1c8",
   "metadata": {},
   "source": [
    "Plotting the resampled results."
   ]
  },
  {
   "cell_type": "code",
   "execution_count": null,
   "id": "229834e8",
   "metadata": {
    "scrolled": false
   },
   "outputs": [],
   "source": [
    "fig, axis = plt.subplots(5, sharex=True)\n",
    "\n",
    "# Plot the net CO2 uptake\n",
    "axis[0].plot(model_results_per_day.index.to_numpy(), model_results_per_day['net CO2 uptake'].to_numpy(), label = 'implimented model')\n",
    "\n",
    "\n",
    "# Plot the average latent heat flux for each day\n",
    "axis[1].plot(model_results_per_day.index.to_numpy(), model_results_per_day['latent energy'].to_numpy(), label = 'implimented model')\n",
    "\n",
    "\n",
    "# Plot the leaf water potential\n",
    "axis[2].plot(model_results_per_day.index.to_numpy(), model_results_per_day['predawn leaf water potential'].to_numpy(), label = 'model four am', c = '#1f77b4')\n",
    "axis[2].plot(model_results_per_day.index.to_numpy(), model_results_per_day['midday leaf water potential'].to_numpy() , label = 'model midday', c = '#1f77b4', linestyle = '--')\n",
    "axis[2].legend()\n",
    "\n",
    "\n",
    "axis[3].plot(model_results_per_day.index.to_numpy(), model_results_per_day['intercellular CO2 concentration'].to_numpy()/model_results_per_day['CO2air'])\n",
    "axis[4].plot(model_results_per_day.index.to_numpy(), model_results_per_day['stomatal conductance to CO2'].to_numpy())\n",
    "\n",
    "# Add labels\n",
    "axis[0].set_ylabel(\"net CO2 uptake (g C m-2 d-1)\")\n",
    "axis[1].set_ylabel(\"Latent energy (W m-2)\")\n",
    "axis[2].set_ylabel(\"Leaf water potential (MPa)\")\n",
    "axis[3].set_ylabel(\"Intercellular CO2 concentration (umol mol-1)\")\n",
    "axis[4].set_ylabel(\"Stomatal conductance to CO2 (mmol m-2 s-1)\")\n",
    "axis[4].set_xlabel(\"date\")\n",
    "\n",
    "# Remove vertical space between sublpots\n",
    "fig.subplots_adjust(hspace = 0)\n",
    "\n",
    "# Set figure size\n",
    "fig.set_size_inches(10,25)"
   ]
  },
  {
   "cell_type": "markdown",
   "id": "26f4980b",
   "metadata": {},
   "source": [
    "# Comparing results\n",
    "\n",
    "Now we can compare the results of running the model above to those from JULES and CABLE along with real observations. To achive this we need to first load and reformat the results files as we did for the metoffice data."
   ]
  },
  {
   "cell_type": "code",
   "execution_count": null,
   "id": "446f6072",
   "metadata": {
    "scrolled": false
   },
   "outputs": [],
   "source": [
    "JULES_data_file_address = \"../../Example met data/local_UK-Ham_fluxnet2015_UK-Ham.UK-Ham.nc\"\n",
    "CABLE_data_file_address = \"../../Example met data/hydraulics_profitmax_manon.nc\"\n",
    "observation_data_file_address = \"../../Example met data/Alice_Holt/data/alice_holt_flux_2022.nc\"\n",
    "\n",
    "# Load files\n",
    "JULES_data = open_dataset(JULES_data_file_address, decode_times=False)\n",
    "CABLE_data = open_dataset(CABLE_data_file_address, decode_times=False)\n",
    "observation_data = open_dataset(observation_data_file_address, decode_times=False)\n",
    "\n",
    "# Reduce to relevant columns\n",
    "JULES_data = JULES_data[['GPP', 'Qle', 'fsmc']]\n",
    "CABLE_data = CABLE_data[['GPP', 'Qle', 'psi_rootzone', 'psi_can', 'LAI']]\n",
    "observation_data = observation_data[['Qle']]\n",
    "\n",
    "# Reduce dimentions\n",
    "JULES_data = JULES_data.squeeze(dim=[\"x\", \"y\"], drop = True)\n",
    "CABLE_data = CABLE_data.squeeze(dim=[\"x\", \"y\", \"patch\"], drop = True)\n",
    "observation_data = observation_data.squeeze(dim=[\"x\", \"y\"], drop = True)\n",
    "\n",
    "# Extract Beta from jules data and then drop fsmc\n",
    "JULES_data['beta'] = JULES_data['fsmc'][:,0]\n",
    "JULES_data = JULES_data[['GPP', 'Qle', 'beta']]\n",
    "\n",
    "# Get start date\n",
    "JULES_units, JULES_reference_date = JULES_data.time.attrs['units'].split('since')\n",
    "CABLE_units, CABLE_reference_date = CABLE_data.time.attrs['units'].split('since')\n",
    "observation_units, observation_reference_date = observation_data.time.attrs['units'].split('since')\n",
    "\n",
    "# Change start date formating\n",
    "JULES_start_date = JULES_reference_date.strip()[0:19].replace(\"-\",\"/\")\n",
    "CABLE_start_date = CABLE_reference_date.strip()[0:19].replace(\"-\",\"/\")\n",
    "observation_start_date = observation_reference_date.strip()[0:19].replace(\"-\",\"/\")\n",
    "\n",
    "# Convert to pandas object\n",
    "JULES_data = JULES_data.to_pandas()\n",
    "CABLE_data = CABLE_data.to_pandas()\n",
    "observation_data = observation_data.to_pandas()\n",
    "\n",
    "# Add date time column (this needs to be done affter converting to pandas or it is treated as an aditional dimention)\n",
    "JULES_data['date time'] = date_range(start = JULES_start_date, periods = len(JULES_data), freq = '30MIN')\n",
    "CABLE_data['date time'] = date_range(start = CABLE_start_date, periods = len(CABLE_data), freq = '30MIN')\n",
    "observation_data['date time'] = date_range(start = observation_start_date, periods = len(observation_data), freq = '30MIN')\n",
    "\n",
    "# Set the 'date time' colun as an index\n",
    "JULES_data = JULES_data.set_index('date time')\n",
    "CABLE_data = CABLE_data.set_index('date time')\n",
    "\n",
    "print(\"JULES: \\n\", JULES_data, \"\\n\")\n",
    "print(\"CABLE: \\n\", CABLE_data, \"\\n\")\n",
    "print(\"observations: \\n\", observation_data, \"\\n\")"
   ]
  },
  {
   "cell_type": "markdown",
   "id": "5b09c887",
   "metadata": {},
   "source": [
    "This data needs to be converted to the same units as that produced using the model.\n",
    "\n",
    "Let us start with the JULES data"
   ]
  },
  {
   "cell_type": "code",
   "execution_count": null,
   "id": "a47b82f7",
   "metadata": {
    "scrolled": false
   },
   "outputs": [],
   "source": [
    "JULES_data_per_day = JULES_data.copy()\n",
    "\n",
    "# First make the carbon uptake rate grams per half hour from kilograms per second\n",
    "JULES_data_per_day['GPP'] = magnitude_conversion(JULES_data_per_day['GPP'], 'k', '')\n",
    "JULES_data_per_day['GPP'] = per_second_to_per_half_hour(JULES_data_per_day['GPP'])\n",
    "\n",
    "# Resample the results to per day taking the sum of the CO2 uptake, mean latent heat and minimum beta\n",
    "JULES_data_per_day = JULES_data_per_day.resample(\"D\").agg({'GPP':'sum', 'Qle':'mean', 'beta':'min'})\n",
    "\n",
    "print(JULES_data_per_day)"
   ]
  },
  {
   "cell_type": "markdown",
   "id": "b559dc5b",
   "metadata": {},
   "source": [
    "Now for the CABLE data."
   ]
  },
  {
   "cell_type": "code",
   "execution_count": null,
   "id": "eb6ab395",
   "metadata": {
    "scrolled": false
   },
   "outputs": [],
   "source": [
    "CABLE_data_per_day = CABLE_data[['GPP','Qle', 'LAI']].copy()\n",
    "\n",
    "# convert GPP from umol m-2 s-1 to g C m-2 (0.5h)-1\n",
    "CABLE_data_per_day['GPP'] = magnitude_conversion(CABLE_data_per_day['GPP'], 'u', '')\n",
    "CABLE_data_per_day['GPP'] = per_second_to_per_half_hour(CABLE_data_per_day['GPP'])\n",
    "CABLE_data_per_day['GPP'] = mole_carbon_to_grams(CABLE_data_per_day['GPP'])\n",
    "\n",
    "# Remove any negative latent heat so they are not averaged over\n",
    "CABLE_data_per_day['Qle'].loc[CABLE_data_per_day['Qle'] < 0] = nan\n",
    "\n",
    "# Resample\n",
    "CABLE_data_per_day = CABLE_data_per_day.resample(\"D\").agg({'GPP':'sum', 'Qle':'mean', 'LAI':'mean'})\n",
    "\n",
    "# Add the pre dawn (6 am) and midday leaf water potentials\n",
    "CABLE_data_per_day['predawn leaf water potential'] = CABLE_data['psi_can'].resample(\"D\", offset = \"4h\" ).asfreq().iloc[1:].to_numpy()\n",
    "CABLE_data_per_day['midday leaf water potential']  = CABLE_data['psi_can'].resample(\"D\", offset = \"12h\").asfreq().iloc[1:].to_numpy()\n",
    "CABLE_data_per_day['midday Qle'] = CABLE_data['Qle'].resample(\"D\", offset = \"12h\").asfreq().iloc[1:].to_numpy()\n",
    "\n",
    "print(CABLE_data_per_day)"
   ]
  },
  {
   "cell_type": "markdown",
   "id": "ae1500f0",
   "metadata": {},
   "source": [
    "Now we can compare these data sets to the results of the model implimented above."
   ]
  },
  {
   "cell_type": "code",
   "execution_count": null,
   "id": "ea74e0b8",
   "metadata": {
    "scrolled": false
   },
   "outputs": [],
   "source": [
    "fig, axis = plt.subplots(3, sharex=True)\n",
    "\n",
    "# Plot the net CO2 uptake\n",
    "axis[0].plot(model_results_per_day.index.to_numpy(), model_results_per_day['net CO2 uptake'].to_numpy(), label = 'implimented model')\n",
    "axis[0].plot(JULES_data_per_day.index.to_numpy()   , JULES_data_per_day['GPP'].to_numpy()              , label = 'JULES')\n",
    "axis[0].plot(CABLE_data_per_day.index.to_numpy()   , CABLE_data_per_day['GPP'].to_numpy()              , label = 'CABLE')\n",
    "axis[0].legend()\n",
    "\n",
    "# Plot the average latent heat flux for each day\n",
    "axis[1].plot(model_results_per_day.index.to_numpy(), model_results_per_day['latent energy'].to_numpy(), label = 'implimented model')\n",
    "axis[1].plot(JULES_data_per_day.index.to_numpy()   , JULES_data_per_day['Qle'].to_numpy()             , label = 'JULES')\n",
    "axis[1].plot(CABLE_data_per_day.index.to_numpy()   , CABLE_data_per_day['Qle'].to_numpy()             , label = 'CABLE')\n",
    "axis[1].legend()\n",
    "\n",
    "# Plot the leaf water potential\n",
    "axis[2].plot(CABLE_data_per_day.index.to_numpy()   , CABLE_data_per_day['predawn leaf water potential'].to_numpy()   , label = 'CABLE four am', c = '#2ca02c')\n",
    "axis[2].plot(CABLE_data_per_day.index.to_numpy()   , CABLE_data_per_day['midday leaf water potential'].to_numpy()    , label = 'CABLE midday', c = '#2ca02c', linestyle = '--')\n",
    "axis[2].plot(model_results_per_day.index.to_numpy(), model_results_per_day['predawn leaf water potential'].to_numpy(), label = 'model four am', c = '#1f77b4')\n",
    "axis[2].plot(model_results_per_day.index.to_numpy(), model_results_per_day['midday leaf water potential'].to_numpy() , label = 'model midday', c = '#1f77b4', linestyle = '--')\n",
    "axis[2].legend()\n",
    "\n",
    "# Add labels\n",
    "axis[0].set_ylabel(\"net CO2 uptake (g C m-2 d-1)\")\n",
    "axis[1].set_ylabel(\"Latent energy (W m-2)\")\n",
    "axis[2].set_ylabel(\"Leaf water potential (MPa)\")\n",
    "axis[2].set_xlabel(\"date\")\n",
    "\n",
    "# Remove vertical space between sublpots\n",
    "fig.subplots_adjust(hspace = 0)\n",
    "\n",
    "# Set figure size\n",
    "fig.set_size_inches(10,15)"
   ]
  },
  {
   "cell_type": "markdown",
   "id": "cb674de5",
   "metadata": {},
   "source": [
    "There is a lot of noise here so lets smooth all the data using a rolling average to make it easier to read."
   ]
  },
  {
   "cell_type": "code",
   "execution_count": null,
   "id": "97bc051e",
   "metadata": {
    "scrolled": false
   },
   "outputs": [],
   "source": [
    "window = 4\n",
    "\n",
    "print(model_results_per_day)\n",
    "model_results_per_day = model_results_per_day.rolling(window).mean()\n",
    "JULES_data_per_day = JULES_data_per_day.rolling(window).mean()\n",
    "CABLE_data_per_day = CABLE_data_per_day.rolling(window).mean()\n",
    "print(model_results_per_day)"
   ]
  },
  {
   "cell_type": "markdown",
   "id": "f781d117",
   "metadata": {},
   "source": [
    "Now we can replot this smoothed data"
   ]
  },
  {
   "cell_type": "code",
   "execution_count": null,
   "id": "39a27258",
   "metadata": {
    "scrolled": false
   },
   "outputs": [],
   "source": [
    "fig, axis = plt.subplots(3, sharex=True)\n",
    "\n",
    "# Plot the net CO2 uptake\n",
    "axis[0].plot(model_results_per_day.index.to_numpy(), model_results_per_day['net CO2 uptake'].to_numpy(), label = 'implimented model')\n",
    "axis[0].plot(JULES_data_per_day.index.to_numpy()   , JULES_data_per_day['GPP'].to_numpy()              , label = 'JULES')\n",
    "axis[0].plot(CABLE_data_per_day.index.to_numpy()   , CABLE_data_per_day['GPP'].to_numpy()              , label = 'CABLE')\n",
    "axis[0].legend()\n",
    "\n",
    "# Plot the average latent heat flux for each day\n",
    "axis[1].plot(model_results_per_day.index.to_numpy(), model_results_per_day['latent energy'].to_numpy(), label = 'implimented model')\n",
    "axis[1].plot(JULES_data_per_day.index.to_numpy()   , JULES_data_per_day['Qle'].to_numpy()             , label = 'JULES')\n",
    "axis[1].plot(CABLE_data_per_day.index.to_numpy()   , CABLE_data_per_day['Qle'].to_numpy()             , label = 'CABLE')\n",
    "axis[1].legend()\n",
    "\n",
    "# Plot the leaf water potential\n",
    "axis[2].plot(CABLE_data_per_day.index.to_numpy()   , CABLE_data_per_day['predawn leaf water potential'].to_numpy()   , label = 'CABLE four am', c = '#2ca02c')\n",
    "axis[2].plot(CABLE_data_per_day.index.to_numpy()   , CABLE_data_per_day['midday leaf water potential'].to_numpy()    , label = 'CABLE midday', c = '#2ca02c', linestyle = '--')\n",
    "axis[2].plot(model_results_per_day.index.to_numpy(), model_results_per_day['predawn leaf water potential'].to_numpy(), label = 'model four am', c = '#1f77b4')\n",
    "axis[2].plot(model_results_per_day.index.to_numpy(), model_results_per_day['midday leaf water potential'].to_numpy() , label = 'model midday', c = '#1f77b4', linestyle = '--')\n",
    "axis[2].legend()\n",
    "\n",
    "# Add labels\n",
    "axis[0].set_ylabel(\"net CO2 uptake (g C m-2 d-1)\")\n",
    "axis[1].set_ylabel(\"Latent energy (W m-2)\")\n",
    "axis[2].set_ylabel(\"Leaf water potential (MPa)\")\n",
    "axis[2].set_xlabel(\"date\")\n",
    "\n",
    "# Remove vertical space between sublpots\n",
    "fig.subplots_adjust(hspace = 0)\n",
    "\n",
    "# Set figure size\n",
    "fig.set_size_inches(10,15)"
   ]
  },
  {
   "cell_type": "markdown",
   "id": "9b971952",
   "metadata": {},
   "source": [
    "There is clearly a scale difference between the model implimented here compared to the JULES and CABLE models. This is likly due to the leaf area index (the leaf area per unit ground area). The model implimented above has inherently assumed constant a leaf area index of one, in reality the leaf area index varies over the year for disiduous trees as they grow and loose their leaves. The correction for this is relativly simple, we need to multiply the net $\\text{CO}_2$ uptake and latent energy results above by the leaf area index. The water potential is unaffected."
   ]
  },
  {
   "cell_type": "code",
   "execution_count": null,
   "id": "80ac7099",
   "metadata": {
    "scrolled": false
   },
   "outputs": [],
   "source": [
    "leaf_area_index = CABLE_data_per_day['LAI'].to_numpy() # m^2 m^-2\n",
    "\n",
    "plt.plot(CABLE_data_per_day.index.to_numpy(), leaf_area_index)\n",
    "plt.ylabel('leaf area index (m2 m-2)')\n",
    "plt.show()\n",
    "\n",
    "fig, axis = plt.subplots(3, sharex=True)\n",
    "\n",
    "# Plot the net CO2 uptake\n",
    "axis[0].plot(model_results_per_day.index.to_numpy(), leaf_area_index * model_results_per_day['net CO2 uptake'].to_numpy()  , label = 'implimented model')\n",
    "#axis[0].plot(model_results_per_day.index.to_numpy(), leaf_area_index * model_results_per_day['net CO2 uptake'].to_numpy()/2, label = 'implimented model /2')\n",
    "axis[0].plot(JULES_data_per_day.index.to_numpy()   , JULES_data_per_day['GPP'].to_numpy()              , label = 'JULES')\n",
    "axis[0].plot(CABLE_data_per_day.index.to_numpy()   , CABLE_data_per_day['GPP'].to_numpy()              , label = 'CABLE')\n",
    "axis[0].legend()\n",
    "\n",
    "# Plot the average latent heat flux for each da\n",
    "axis[1].plot(model_results_per_day.index.to_numpy(), leaf_area_index * model_results_per_day['latent energy'].to_numpy()  , label = 'implimented model')\n",
    "#axis[1].plot(model_results_per_day.index.to_numpy(), leaf_area_index * model_results_per_day['latent energy'].to_numpy()/6, label = 'implimented model /6')\n",
    "axis[1].plot(JULES_data_per_day.index.to_numpy()   , JULES_data_per_day['Qle'].to_numpy(), label = 'JULES')\n",
    "axis[1].plot(CABLE_data_per_day.index.to_numpy()   , CABLE_data_per_day['Qle'].to_numpy(), label = 'CABLE')\n",
    "axis[1].legend()\n",
    "\n",
    "# Plot the leaf water potential\n",
    "axis[2].plot(CABLE_data_per_day.index.to_numpy()   , CABLE_data_per_day['predawn leaf water potential'].to_numpy()   , label = 'CABLE four am', c = '#2ca02c')\n",
    "axis[2].plot(CABLE_data_per_day.index.to_numpy()   , CABLE_data_per_day['midday leaf water potential'].to_numpy()    , label = 'CABLE midday', c = '#2ca02c', linestyle = '--')\n",
    "axis[2].plot(model_results_per_day.index.to_numpy(), model_results_per_day['predawn leaf water potential'].to_numpy(), label = 'model four am', c = '#1f77b4')\n",
    "axis[2].plot(model_results_per_day.index.to_numpy(), model_results_per_day['midday leaf water potential'].to_numpy() , label = 'model midday', c = '#1f77b4', linestyle = '--')\n",
    "axis[2].legend()\n",
    "\n",
    "# Add labels\n",
    "axis[0].set_ylabel(\"net CO2 uptake (g C m-2 d-1)\")\n",
    "axis[1].set_ylabel(\"Latent energy (W m-2)\")\n",
    "axis[2].set_ylabel(\"Leaf water potential (MPa)\")\n",
    "axis[2].set_xlabel(\"date\")\n",
    "\n",
    "# Remove vertical space between sublpots\n",
    "fig.subplots_adjust(hspace = 0)\n",
    "\n",
    "# Set figure size\n",
    "fig.set_size_inches(10,15)"
   ]
  },
  {
   "cell_type": "markdown",
   "id": "6dbab52a",
   "metadata": {},
   "source": [
    "# Testing the model\n",
    "\n",
    "Bellow are a series of test used to try and identify why the model deviates from the CABLE and JULES results.\n",
    "\n",
    "First we recalculate the transpiration rate from the stomatal conductance to $\\text{CO}_2$."
   ]
  },
  {
   "cell_type": "code",
   "execution_count": null,
   "id": "5747c723",
   "metadata": {
    "scrolled": false
   },
   "outputs": [],
   "source": [
    "from numpy import cumsum, pad, nan_to_num\n",
    "\n",
    "conductance_to_water = convert_stomatal_conductance_of_carbon_to_water(model_results_per_day['stomatal conductance to CO2']).to_numpy()\n",
    "\n",
    "VPD = model_results['VPD'].resample('D').agg({'VPD':'mean'}).to_numpy()[:,0]\n",
    "Pressure = model_results['Psurf'].resample('D').agg({'Psurf':'mean'}).to_numpy()[:,0]\n",
    "air_temperature_K = model_results['Tair'].resample('D').agg({'Tair':'mean'}).to_numpy()[:,0]\n",
    "\n",
    "recalculated_transpiration_rate = VPD * conductance_to_water / Pressure\n",
    "\n",
    "recalculated_transpiration_rate = nan_to_num(recalculated_transpiration_rate)\n",
    "\n",
    "# get rolling average\n",
    "recalculated_transpiration_rate = cumsum(recalculated_transpiration_rate)\n",
    "recalculated_transpiration_rate = recalculated_transpiration_rate[window:]-recalculated_transpiration_rate[:-window]\n",
    "recalculated_transpiration_rate = recalculated_transpiration_rate/window\n",
    "\n",
    "recalculated_transpiration_rate = pad(recalculated_transpiration_rate, (2,2), mode = 'empty')\n",
    "\n",
    "plt.plot(model_results_per_day.index.to_numpy(), leaf_area_index *1000*recalculated_transpiration_rate, label = 'recalculated model')\n",
    "plt.plot(model_results_per_day.index.to_numpy(), leaf_area_index *model_results_per_day['transpiration rates'].to_numpy(), label = 'implimented model')\n",
    "plt.legend()\n",
    "plt.ylabel('transpiration rate (mmol m-2 s-1)')\n",
    "plt.show()\n",
    "\n",
    "recalculated_latent_heat_flux = convert_transpiration_rate_to_latent_energy(recalculated_transpiration_rate, air_temperature_K)\n",
    "\n",
    "plt.plot(model_results_per_day.index.to_numpy(), leaf_area_index *recalculated_latent_heat_flux                    , label = 'recalculated model')\n",
    "plt.plot(model_results_per_day.index.to_numpy(), leaf_area_index *model_results_per_day['latent energy'].to_numpy(), label = 'implimented model')\n",
    "plt.plot(JULES_data_per_day.index.to_numpy()   , JULES_data_per_day['Qle'].to_numpy()                              , label = 'JULES')\n",
    "plt.plot(CABLE_data_per_day.index.to_numpy()   , CABLE_data_per_day['Qle'].to_numpy()                              , label = 'CABLE')\n",
    "plt.legend()\n",
    "plt.ylabel('latent energy (W m-2)')\n",
    "plt.show()"
   ]
  },
  {
   "cell_type": "markdown",
   "id": "7fd4fb8d",
   "metadata": {},
   "source": [
    "Bellow the stomatal conductance to $\\text{CO}_2$ is calculated from the models net $\\text{CO}_2$ uptake, intercellular $\\text{CO}_2$ concentration and the measured $\\text{CO}_2$ concentration in the air."
   ]
  },
  {
   "cell_type": "code",
   "execution_count": null,
   "id": "88f944cd",
   "metadata": {},
   "outputs": [],
   "source": [
    "recalculated_stomatal_conductance_to_CO2 = model_results['net CO2 uptake umol m-2 s-1'] / (model_results['CO2air'] - model_results['intercellular CO2 concentration'])\n",
    "\n",
    "plt.plot(model_results.index.to_numpy(), model_results['stomatal conductance to CO2'].to_numpy(), label = 'model result')\n",
    "plt.plot(model_results.index.to_numpy(), 0.5*recalculated_stomatal_conductance_to_CO2, label = 'recalculated/2')\n",
    "plt.ylabel('stomatal conductance to CO2 (umol m-2 s-1)')\n",
    "plt.legend()\n",
    "plt.show()"
   ]
  },
  {
   "cell_type": "markdown",
   "id": "4ffb660a",
   "metadata": {},
   "source": [
    "The code bellow calculates the transpiration rate using the leaf and soil potentials extracted from the CABLE data. This is then compared to the transpiration rate calculated by CABLE. It is clear that the transpiration calculated by the model is roughly double that calculated using the CABLE implimentation despite using the same water potential range."
   ]
  },
  {
   "cell_type": "code",
   "execution_count": null,
   "id": "d6b58711",
   "metadata": {
    "scrolled": false
   },
   "outputs": [],
   "source": [
    "from numpy import zeros\n",
    "\n",
    "transpiration_from_water_potentials_CABLE_midday = zeros(len(CABLE_data_per_day))\n",
    "transpiration_from_water_potentials_model_midday = zeros(len(model_results_per_day))\n",
    "leaf_water_potentials_CABLE = CABLE_data_per_day['midday leaf water potential'].to_numpy()\n",
    "leaf_water_potentials_model = model_results_per_day['midday leaf water potential'].to_numpy()\n",
    "soil_water_potentials_midday = model_results_per_day['soil water potential midday'].to_numpy()\n",
    "\n",
    "plt.plot(model_results_per_day.index.to_numpy(), soil_water_potentials_midday, label = 'soil water potential')\n",
    "plt.plot(CABLE_data_per_day.index.to_numpy(), leaf_water_potentials_CABLE, label = 'leaf water potential CABLE')\n",
    "plt.plot(model_results_per_day.index.to_numpy(), leaf_water_potentials_model, label = 'leaf water potential model')\n",
    "plt.legend()\n",
    "plt.ylabel('water potential (MPa)')\n",
    "plt.show()\n",
    "\n",
    "for i in range(len(CABLE_data_per_day)):\n",
    "    transpiration_from_water_potentials_CABLE_midday[i] = -hydraulic_conductance_model.transpiration(soil_water_potentials_midday[i], leaf_water_potentials_CABLE[i])\n",
    "    \n",
    "for i in range(len(model_results_per_day)):\n",
    "    transpiration_from_water_potentials_model_midday[i] = -hydraulic_conductance_model.transpiration(soil_water_potentials_midday[i], leaf_water_potentials_model[i])\n",
    "    \n",
    "    \n",
    "plt.plot(model_results_per_day.index.to_numpy(), leaf_area_index*transpiration_from_water_potentials_model_midday, label = 'from model leaf water potential midday')\n",
    "plt.plot(model_results_per_day.index.to_numpy(), leaf_area_index*transpiration_from_water_potentials_model_midday/2, label = 'from model leaf water potential midday / 2')\n",
    "plt.plot(CABLE_data_per_day.index.to_numpy(), leaf_area_index*transpiration_from_water_potentials_CABLE_midday, label = 'from CABLE leaf water potential midday')\n",
    "plt.legend()\n",
    "plt.ylabel(\"Transpiration (mmol m-2 s-1)\")\n",
    "plt.show()\n",
    "\n",
    "latent_energy_from_water_potentials_CABLE_midday = convert_transpiration_rate_to_latent_energy(transpiration_from_water_potentials_CABLE_midday/1000, model_results_per_day['Tair midday'])\n",
    "\n",
    "plt.plot(CABLE_data_per_day.index.to_numpy(), leaf_area_index*latent_energy_from_water_potentials_CABLE_midday, label = 'recalculated CABLE')\n",
    "plt.plot(CABLE_data_per_day.index.to_numpy(), leaf_area_index*latent_energy_from_water_potentials_CABLE_midday/2, label = 'recalculated CABLE /2')\n",
    "plt.plot(CABLE_data_per_day.index.to_numpy(), CABLE_data_per_day['midday Qle'].to_numpy(), label = 'CABLE')\n",
    "plt.ylabel(\"Latent energy (W m-2)\")\n",
    "plt.legend()\n",
    "plt.show()"
   ]
  },
  {
   "cell_type": "markdown",
   "id": "2a312eaa",
   "metadata": {},
   "source": [
    "The code bellow tests the transpiration to latent energy conversion based on the JULES data as it contains both the vegitation transpiration and latent energy. The air temperature is not obveously available so we make do by using the temperature at 1.5m (the lable for this being 't1p5m')."
   ]
  },
  {
   "cell_type": "code",
   "execution_count": null,
   "id": "21ee0a80",
   "metadata": {
    "scrolled": false
   },
   "outputs": [],
   "source": [
    "from src.conversions import gram_water_to_mole\n",
    "\n",
    "JULES_transpiration_data = open_dataset(JULES_data_file_address, decode_times=False)[['TVeg','Qle','t1p5m']]\n",
    "\n",
    "JULES_transpiration_data = JULES_transpiration_data.squeeze(dim=[\"x\", \"y\"], drop = True)\n",
    "\n",
    "# Convert to pandas object\n",
    "JULES_transpiration_data = JULES_transpiration_data.to_pandas()\n",
    "\n",
    "# Add date time column (this needs to be done affter converting to pandas or it is treated as an aditional dimention)\n",
    "JULES_transpiration_data['date time'] = JULES_data.index.to_numpy()\n",
    "\n",
    "# Set the 'date time' colun as an index\n",
    "JULES_transpiration_data = JULES_transpiration_data.set_index('date time')\n",
    "\n",
    "\n",
    "print(JULES_transpiration_data)\n",
    "\n",
    "JULES_transpiration_data = JULES_transpiration_data.resample('4h').first()\n",
    "\n",
    "JULES_transpiration_data['Qle recalculated'] = magnitude_conversion(JULES_transpiration_data['TVeg'], 'k', '')\n",
    "\n",
    "print(JULES_transpiration_data)\n",
    "\n",
    "JULES_transpiration_data['Qle recalculated'] = gram_water_to_mole(JULES_transpiration_data['Qle recalculated'])\n",
    "\n",
    "print(JULES_transpiration_data)\n",
    "print(len(model_results['Tair'].to_numpy()))\n",
    "JULES_transpiration_data['Qle recalculated'] = convert_transpiration_rate_to_latent_energy(JULES_transpiration_data['Qle recalculated'].to_numpy(), JULES_transpiration_data['t1p5m'].to_numpy())\n",
    "\n",
    "print(JULES_transpiration_data)\n",
    "\n",
    "plt.plot(JULES_transpiration_data.index.to_numpy(), JULES_transpiration_data['Qle'], label = 'JULES')\n",
    "plt.plot(JULES_transpiration_data.index.to_numpy(), JULES_transpiration_data['Qle recalculated'], label = 'recalculated')\n",
    "plt.ylabel('latent energy (W m-2)')\n",
    "plt.legend()\n",
    "plt.show()"
   ]
  },
  {
   "cell_type": "code",
   "execution_count": null,
   "id": "d6ac2be9",
   "metadata": {},
   "outputs": [],
   "source": []
  },
  {
   "cell_type": "code",
   "execution_count": null,
   "id": "01b944c1",
   "metadata": {},
   "outputs": [],
   "source": []
  }
 ],
 "metadata": {
  "kernelspec": {
   "display_name": "Python 3 (ipykernel)",
   "language": "python",
   "name": "python3"
  },
  "language_info": {
   "codemirror_mode": {
    "name": "ipython",
    "version": 3
   },
   "file_extension": ".py",
   "mimetype": "text/x-python",
   "name": "python",
   "nbconvert_exporter": "python",
   "pygments_lexer": "ipython3",
   "version": "3.11.5"
  }
 },
 "nbformat": 4,
 "nbformat_minor": 5
}
