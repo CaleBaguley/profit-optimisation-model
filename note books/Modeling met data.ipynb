{
 "cells": [
  {
   "cell_type": "markdown",
   "id": "5f6e596f",
   "metadata": {},
   "source": [
    "The purpose of this note book is to apply the profit optiisation model to make predictions based on a set of met office data. This can then also be compared to Manon's results.\n",
    "\n",
    "The code bellow imports the necessary python packages."
   ]
  },
  {
   "cell_type": "code",
   "execution_count": 1,
   "id": "1ddaad3f",
   "metadata": {},
   "outputs": [
    {
     "name": "stdout",
     "output_type": "stream",
     "text": [
      "<src.TemperatureDependenceModels.arrhenius_and_peaked_arrhenius_function.ArrheniusModel object at 0x104437090>\n"
     ]
    }
   ],
   "source": [
    "import sys\n",
    "sys.path.append('../')\n",
    "\n",
    "from src.vapour_pressure_deficit_calculation import vapour_pressure_deficit\n",
    "from src.profit_optimisation_model import ProfitOptimisationModel, run_optimisation_model_on_data\n",
    "from src.cumulative_Weibull_distribution_model import cumulative_weibull_distribution_from_conductance_loss_at_given_water_potentials\n",
    "from src.hydraulic_cost_model import HydraulicCostModel\n",
    "from src.leaf_air_coupling_model import LeafAirCouplingModel\n",
    "from src.CO2_gain_model import CO2GainModel\n",
    "from src.leaf_air_coupling_model import LeafAirCouplingModel\n",
    "from src.photosynthesis_model import PhotosynthesisModelRubiscoLimited\n",
    "from src.CO2_gain_model import CO2GainModel\n",
    "\n",
    "from src.conversions import (magnitude_conversion,\n",
    "                             mole_carbon_to_grams,\n",
    "                             per_day_to_per_second,\n",
    "                             per_second_to_per_half_hour,\n",
    "                             convert_transpiration_rate_to_latent_energy)\n",
    "\n",
    "from xarray import open_dataset\n",
    "from pandas import DataFrame, date_range\n",
    "from numpy import nan\n",
    "\n",
    "from matplotlib import pyplot as plt"
   ]
  },
  {
   "cell_type": "markdown",
   "id": "8cf11fc5",
   "metadata": {},
   "source": [
    "# Metoffice data\n",
    "\n",
    "To run the model we need a set of environmental data, this we get from a netcdf file. The code bellow imports and prints a description of this file."
   ]
  },
  {
   "cell_type": "code",
   "execution_count": 2,
   "id": "f347bc32",
   "metadata": {},
   "outputs": [
    {
     "name": "stdout",
     "output_type": "stream",
     "text": [
      "<xarray.Dataset>\n",
      "Dimensions:    (time: 17520, z: 1, y: 1, x: 1)\n",
      "Coordinates:\n",
      "  * time       (time) float64 0.0 1.8e+03 3.6e+03 ... 3.153e+07 3.153e+07\n",
      "  * z          (z) float64 1.0\n",
      "  * y          (y) float64 1.0\n",
      "  * x          (x) float64 1.0\n",
      "Data variables:\n",
      "    latitude   (y, x) float64 ...\n",
      "    longitude  (y, x) float64 ...\n",
      "    SWdown     (time, y, x) float64 ...\n",
      "    Tair       (time, y, x) float64 ...\n",
      "    Precip     (time, y, x) float64 ...\n",
      "    Qair       (time, y, x) float64 ...\n",
      "    Wind       (time, y, x) float64 ...\n",
      "    Psurf      (time, y, x) float64 ...\n",
      "    LWdown     (time, y, x) float64 ...\n",
      "    CO2air     (time, z, y, x) float64 ...\n",
      "    za_tq      (y, x) float64 ...\n",
      "    za_uv      (y, x) float64 ...\n",
      "Attributes:\n",
      "    description:    Alice Holt met data, created by Martin De Kauwe\n",
      "    history:        Created by: generate_met_file_2022_JULES.py\n",
      "    creation_date:  2023-06-30 12:33:02.874471\n",
      "    contact:        mdekauwe@gmail.com\n"
     ]
    }
   ],
   "source": [
    "metoffice_data_file_address = \"../../Example met data/Alice_Holt/data/UK-Ham_2002-2003_Met.nc\"\n",
    "\n",
    "metoffice_data_file = open_dataset(metoffice_data_file_address, decode_times = False)\n",
    "\n",
    "print(metoffice_data_file)"
   ]
  },
  {
   "cell_type": "markdown",
   "id": "0f584627",
   "metadata": {},
   "source": [
    "We can take a closer look at the available data \"columns\" using the keys property."
   ]
  },
  {
   "cell_type": "code",
   "execution_count": 3,
   "id": "4115c597",
   "metadata": {},
   "outputs": [
    {
     "name": "stdout",
     "output_type": "stream",
     "text": [
      "<bound method Mapping.keys of <xarray.Dataset>\n",
      "Dimensions:    (time: 17520, z: 1, y: 1, x: 1)\n",
      "Coordinates:\n",
      "  * time       (time) float64 0.0 1.8e+03 3.6e+03 ... 3.153e+07 3.153e+07\n",
      "  * z          (z) float64 1.0\n",
      "  * y          (y) float64 1.0\n",
      "  * x          (x) float64 1.0\n",
      "Data variables:\n",
      "    latitude   (y, x) float64 ...\n",
      "    longitude  (y, x) float64 ...\n",
      "    SWdown     (time, y, x) float64 ...\n",
      "    Tair       (time, y, x) float64 ...\n",
      "    Precip     (time, y, x) float64 ...\n",
      "    Qair       (time, y, x) float64 ...\n",
      "    Wind       (time, y, x) float64 ...\n",
      "    Psurf      (time, y, x) float64 ...\n",
      "    LWdown     (time, y, x) float64 ...\n",
      "    CO2air     (time, z, y, x) float64 ...\n",
      "    za_tq      (y, x) float64 ...\n",
      "    za_uv      (y, x) float64 ...\n",
      "Attributes:\n",
      "    description:    Alice Holt met data, created by Martin De Kauwe\n",
      "    history:        Created by: generate_met_file_2022_JULES.py\n",
      "    creation_date:  2023-06-30 12:33:02.874471\n",
      "    contact:        mdekauwe@gmail.com>\n"
     ]
    }
   ],
   "source": [
    "print(metoffice_data_file.keys)"
   ]
  },
  {
   "cell_type": "markdown",
   "id": "762a1e61",
   "metadata": {},
   "source": [
    "Alternativly you can inspect a netcdf file without the need to write python code. For example to view the header of the netcdf file from the terminal use the following command: \n",
    "\n",
    "$$ \\text{ncdump -h file_address} $$\n",
    "\n",
    "Note the -h restricts the output to only the header, if it is removed the entier file is printed. \n",
    "\n",
    "Alternativly for a graphical interface you can open the file using nasas panoply software (https://www.giss.nasa.gov/tools/panoply/download/)."
   ]
  },
  {
   "cell_type": "markdown",
   "id": "63aae749",
   "metadata": {},
   "source": [
    "From this file we only want a subset of the columns, specificaly air temperature, specific humidity, air pressure at the ground surface and the $CO_2$ fraction of the air. These columns are labeld Tair, Qair, Psurf and CO2air respectivly. The code bellow reduces the data to just these columns."
   ]
  },
  {
   "cell_type": "code",
   "execution_count": 4,
   "id": "2deb64db",
   "metadata": {},
   "outputs": [
    {
     "name": "stdout",
     "output_type": "stream",
     "text": [
      "<xarray.Dataset>\n",
      "Dimensions:  (time: 17520, y: 1, x: 1, z: 1)\n",
      "Coordinates:\n",
      "  * time     (time) float64 0.0 1.8e+03 3.6e+03 ... 3.153e+07 3.153e+07\n",
      "  * z        (z) float64 1.0\n",
      "  * y        (y) float64 1.0\n",
      "  * x        (x) float64 1.0\n",
      "Data variables:\n",
      "    Tair     (time, y, x) float64 ...\n",
      "    Qair     (time, y, x) float64 ...\n",
      "    Psurf    (time, y, x) float64 ...\n",
      "    CO2air   (time, z, y, x) float64 ...\n",
      "Attributes:\n",
      "    description:    Alice Holt met data, created by Martin De Kauwe\n",
      "    history:        Created by: generate_met_file_2022_JULES.py\n",
      "    creation_date:  2023-06-30 12:33:02.874471\n",
      "    contact:        mdekauwe@gmail.com\n"
     ]
    }
   ],
   "source": [
    "met_columns = [\"Tair\", \"Qair\", \"Psurf\", \"CO2air\"]\n",
    "metoffice_data = metoffice_data_file[met_columns]\n",
    "\n",
    "print(metoffice_data)"
   ]
  },
  {
   "cell_type": "markdown",
   "id": "9fc9c1a0",
   "metadata": {},
   "source": [
    "We can see that each column is actualy three dimentional. The first dimension coressponds to the time at wich the measurment is conducted. The remaining two dimentions \"x\" and \"y\" are needed when running simulations over a grid of adjacent sites, and \"z\" is used to brake the atmospher into different cells. The data in this particular file only uses one site and a single hight cell so we can remove these three diemtions."
   ]
  },
  {
   "cell_type": "code",
   "execution_count": 5,
   "id": "c7280cbd",
   "metadata": {},
   "outputs": [
    {
     "name": "stdout",
     "output_type": "stream",
     "text": [
      "<xarray.Dataset>\n",
      "Dimensions:  (time: 17520)\n",
      "Coordinates:\n",
      "  * time     (time) float64 0.0 1.8e+03 3.6e+03 ... 3.153e+07 3.153e+07\n",
      "Data variables:\n",
      "    Tair     (time) float64 ...\n",
      "    Qair     (time) float64 ...\n",
      "    Psurf    (time) float64 ...\n",
      "    CO2air   (time) float64 ...\n",
      "Attributes:\n",
      "    description:    Alice Holt met data, created by Martin De Kauwe\n",
      "    history:        Created by: generate_met_file_2022_JULES.py\n",
      "    creation_date:  2023-06-30 12:33:02.874471\n",
      "    contact:        mdekauwe@gmail.com\n"
     ]
    }
   ],
   "source": [
    "metoffice_data = metoffice_data.squeeze(dim=[\"x\", \"y\", \"z\"], drop = True)\n",
    "\n",
    "print(metoffice_data)"
   ]
  },
  {
   "cell_type": "markdown",
   "id": "fcce0fa7",
   "metadata": {},
   "source": [
    "Next we convert this into a pandas data frame to make it easier to work with."
   ]
  },
  {
   "cell_type": "code",
   "execution_count": 6,
   "id": "56970b8f",
   "metadata": {},
   "outputs": [
    {
     "name": "stdout",
     "output_type": "stream",
     "text": [
      "               Tair      Qair     Psurf  CO2air\n",
      "time                                           \n",
      "0.0         289.322  0.006778  101608.0  418.56\n",
      "1800.0      289.322  0.006778  101608.0  418.56\n",
      "3600.0      287.886  0.006796  101628.0  418.56\n",
      "5400.0      287.886  0.006796  101628.0  418.56\n",
      "7200.0      286.193  0.006731  101659.0  418.56\n",
      "...             ...       ...       ...     ...\n",
      "31527000.0  285.735  0.006571   99948.7  418.56\n",
      "31528800.0  286.414  0.006736   99905.7  418.56\n",
      "31530600.0  286.414  0.006736   99905.7  418.56\n",
      "31532400.0  285.521  0.007251   99803.2  418.56\n",
      "31534200.0  285.521  0.007251   99803.2  418.56\n",
      "\n",
      "[17520 rows x 4 columns]\n"
     ]
    }
   ],
   "source": [
    "metoffice_data = metoffice_data.to_pandas()\n",
    "\n",
    "print(metoffice_data)"
   ]
  },
  {
   "cell_type": "markdown",
   "id": "8668162f",
   "metadata": {},
   "source": [
    "Inorder to run the profit optimisation model we need the vapour pressure deficit in $kPa$."
   ]
  },
  {
   "cell_type": "code",
   "execution_count": 7,
   "id": "ac8f7463",
   "metadata": {},
   "outputs": [
    {
     "name": "stdout",
     "output_type": "stream",
     "text": [
      "               Tair      Qair     Psurf  CO2air       VPD\n",
      "time                                                     \n",
      "0.0         289.322  0.006778  101608.0  418.56  0.734297\n",
      "1800.0      289.322  0.006778  101608.0  418.56  0.734297\n",
      "3600.0      287.886  0.006796  101628.0  418.56  0.569528\n",
      "5400.0      287.886  0.006796  101628.0  418.56  0.569528\n",
      "7200.0      286.193  0.006731  101659.0  418.56  0.405156\n",
      "...             ...       ...       ...     ...       ...\n",
      "31527000.0  285.735  0.006571   99948.7  418.56  0.404794\n",
      "31528800.0  286.414  0.006736   99905.7  418.56  0.445145\n",
      "31530600.0  286.414  0.006736   99905.7  418.56  0.445145\n",
      "31532400.0  285.521  0.007251   99803.2  418.56  0.277809\n",
      "31534200.0  285.521  0.007251   99803.2  418.56  0.277809\n",
      "\n",
      "[17520 rows x 5 columns]\n"
     ]
    }
   ],
   "source": [
    "metoffice_data['VPD'] = vapour_pressure_deficit(metoffice_data['Tair'],\n",
    "                                                metoffice_data['Qair'],\n",
    "                                                metoffice_data['Psurf'])\n",
    "\n",
    "print(metoffice_data)"
   ]
  },
  {
   "cell_type": "markdown",
   "id": "6c186639",
   "metadata": {},
   "source": [
    "The time column here is not in the format we necesseraly want so lets create another column with the date and time of each measurement."
   ]
  },
  {
   "cell_type": "code",
   "execution_count": 8,
   "id": "5e1235e8",
   "metadata": {},
   "outputs": [
    {
     "name": "stdout",
     "output_type": "stream",
     "text": [
      "                        Tair      Qair     Psurf  CO2air       VPD\n",
      "date time                                                         \n",
      "2022-01-01 00:00:00  289.322  0.006778  101608.0  418.56  0.734297\n",
      "2022-01-01 00:30:00  289.322  0.006778  101608.0  418.56  0.734297\n",
      "2022-01-01 01:00:00  287.886  0.006796  101628.0  418.56  0.569528\n",
      "2022-01-01 01:30:00  287.886  0.006796  101628.0  418.56  0.569528\n",
      "2022-01-01 02:00:00  286.193  0.006731  101659.0  418.56  0.405156\n",
      "...                      ...       ...       ...     ...       ...\n",
      "2022-12-31 21:30:00  285.735  0.006571   99948.7  418.56  0.404794\n",
      "2022-12-31 22:00:00  286.414  0.006736   99905.7  418.56  0.445145\n",
      "2022-12-31 22:30:00  286.414  0.006736   99905.7  418.56  0.445145\n",
      "2022-12-31 23:00:00  285.521  0.007251   99803.2  418.56  0.277809\n",
      "2022-12-31 23:30:00  285.521  0.007251   99803.2  418.56  0.277809\n",
      "\n",
      "[17520 rows x 5 columns]\n"
     ]
    }
   ],
   "source": [
    "units, reference_date = metoffice_data_file.time.attrs['units'].split('since')\n",
    "\n",
    "start = reference_date.strip()[0:19].replace(\"-\",\"/\")\n",
    "\n",
    "metoffice_data['date time'] = date_range(start = start, periods = len(metoffice_data), freq = '30MIN')\n",
    "\n",
    "metoffice_data = metoffice_data.set_index('date time')\n",
    "\n",
    "print(metoffice_data)"
   ]
  },
  {
   "cell_type": "markdown",
   "id": "924944ed",
   "metadata": {},
   "source": [
    "## Missing model inputs\n",
    "\n",
    "The data available within the file doesn't contain the soil water potential or intercellular oxygen concentration so for now we set these values. The code used later takes these values in as an array of the same size as time steps so we need to create one for each and add it to the pandas data frame."
   ]
  },
  {
   "cell_type": "code",
   "execution_count": 9,
   "id": "a7002a28",
   "metadata": {},
   "outputs": [
    {
     "name": "stdout",
     "output_type": "stream",
     "text": [
      "                        Tair      Qair     Psurf  CO2air       VPD  \\\n",
      "date time                                                            \n",
      "2022-01-01 00:00:00  289.322  0.006778  101608.0  418.56  0.734297   \n",
      "2022-01-01 00:30:00  289.322  0.006778  101608.0  418.56  0.734297   \n",
      "2022-01-01 01:00:00  287.886  0.006796  101628.0  418.56  0.569528   \n",
      "2022-01-01 01:30:00  287.886  0.006796  101628.0  418.56  0.569528   \n",
      "2022-01-01 02:00:00  286.193  0.006731  101659.0  418.56  0.405156   \n",
      "...                      ...       ...       ...     ...       ...   \n",
      "2022-12-31 21:30:00  285.735  0.006571   99948.7  418.56  0.404794   \n",
      "2022-12-31 22:00:00  286.414  0.006736   99905.7  418.56  0.445145   \n",
      "2022-12-31 22:30:00  286.414  0.006736   99905.7  418.56  0.445145   \n",
      "2022-12-31 23:00:00  285.521  0.007251   99803.2  418.56  0.277809   \n",
      "2022-12-31 23:30:00  285.521  0.007251   99803.2  418.56  0.277809   \n",
      "\n",
      "                     soil water potential  intercellular oxygen  \n",
      "date time                                                        \n",
      "2022-01-01 00:00:00                  -0.0                 210.0  \n",
      "2022-01-01 00:30:00                  -0.0                 210.0  \n",
      "2022-01-01 01:00:00                  -0.0                 210.0  \n",
      "2022-01-01 01:30:00                  -0.0                 210.0  \n",
      "2022-01-01 02:00:00                  -0.0                 210.0  \n",
      "...                                   ...                   ...  \n",
      "2022-12-31 21:30:00                  -0.0                 210.0  \n",
      "2022-12-31 22:00:00                  -0.0                 210.0  \n",
      "2022-12-31 22:30:00                  -0.0                 210.0  \n",
      "2022-12-31 23:00:00                  -0.0                 210.0  \n",
      "2022-12-31 23:30:00                  -0.0                 210.0  \n",
      "\n",
      "[17520 rows x 7 columns]\n"
     ]
    }
   ],
   "source": [
    "soil_water_potential = -0.0 # MPa\n",
    "intercellular_oxygen = 210.0 #(umol mol-1)\n",
    "\n",
    "metoffice_data['soil water potential'] = soil_water_potential\n",
    "metoffice_data['intercellular oxygen'] = intercellular_oxygen\n",
    "\n",
    "print(metoffice_data)"
   ]
  },
  {
   "cell_type": "markdown",
   "id": "a8c59056",
   "metadata": {},
   "source": [
    "## Resampling the data\n",
    "\n",
    "Currently the met data we are working with contains a years worth of measurments seperated byhalf an hour totaling $17520$ entries. To reduce the computation time we will reduce the data to be every six hours (reducing the data to $1460$ entries)."
   ]
  },
  {
   "cell_type": "code",
   "execution_count": 10,
   "id": "f1075b37",
   "metadata": {},
   "outputs": [
    {
     "name": "stdout",
     "output_type": "stream",
     "text": [
      "resample step:  12 \n",
      "\n",
      "                        Tair      Qair     Psurf  CO2air       VPD  \\\n",
      "date time                                                            \n",
      "2022-01-01 00:00:00  289.322  0.006778  101608.0  418.56  0.734297   \n",
      "2022-01-01 06:00:00  284.987  0.006884  101766.0  418.56  0.264953   \n",
      "2022-01-01 12:00:00  287.113  0.007292  102050.0  418.56  0.402458   \n",
      "2022-01-01 18:00:00  285.714  0.007400  102289.0  418.56  0.243053   \n",
      "2022-01-02 00:00:00  289.322  0.006778  101608.0  418.56  0.734297   \n",
      "...                      ...       ...       ...     ...       ...   \n",
      "2022-12-30 18:00:00  287.884  0.007442   98383.9  418.56  0.503225   \n",
      "2022-12-31 00:00:00  287.105  0.007443   99775.5  418.56  0.404153   \n",
      "2022-12-31 06:00:00  287.168  0.007439   99423.2  418.56  0.415499   \n",
      "2022-12-31 12:00:00  285.686  0.006994   98671.7  418.56  0.347002   \n",
      "2022-12-31 18:00:00  287.884  0.007442   98383.9  418.56  0.503225   \n",
      "\n",
      "                     soil water potential  intercellular oxygen  \n",
      "date time                                                        \n",
      "2022-01-01 00:00:00                  -0.0                 210.0  \n",
      "2022-01-01 06:00:00                  -0.0                 210.0  \n",
      "2022-01-01 12:00:00                  -0.0                 210.0  \n",
      "2022-01-01 18:00:00                  -0.0                 210.0  \n",
      "2022-01-02 00:00:00                  -0.0                 210.0  \n",
      "...                                   ...                   ...  \n",
      "2022-12-30 18:00:00                  -0.0                 210.0  \n",
      "2022-12-31 00:00:00                  -0.0                 210.0  \n",
      "2022-12-31 06:00:00                  -0.0                 210.0  \n",
      "2022-12-31 12:00:00                  -0.0                 210.0  \n",
      "2022-12-31 18:00:00                  -0.0                 210.0  \n",
      "\n",
      "[1460 rows x 7 columns]\n"
     ]
    }
   ],
   "source": [
    "current_time_step = 0.5 #h\n",
    "target_time_step = 6 #h\n",
    "\n",
    "resample_step = int(target_time_step / current_time_step)\n",
    "print(\"resample step: \", resample_step, \"\\n\")\n",
    "\n",
    "metoffice_data = metoffice_data.iloc[::resample_step, :]\n",
    "\n",
    "print(metoffice_data)"
   ]
  },
  {
   "cell_type": "markdown",
   "id": "55fbdc62",
   "metadata": {},
   "source": [
    "# Applying the model\n",
    "\n",
    "Now that we have the necessary data the next step is to creat the model."
   ]
  },
  {
   "cell_type": "code",
   "execution_count": 11,
   "id": "ea7ec9db",
   "metadata": {},
   "outputs": [],
   "source": [
    "hydraulic_conductance_model = \\\n",
    "    cumulative_weibull_distribution_from_conductance_loss_at_given_water_potentials(maximum_conductance = 1, # mmol m-2 s-1 MPa-1\n",
    "                                                                                    water_potential_1 = -6.6, # MPa\n",
    "                                                                                    water_potential_2 = -10.5, # MPa\n",
    "                                                                                    conductance_loss_fraction_1 = 0.5,\n",
    "                                                                                    conductance_loss_fraction_2 = 0.88)\n",
    "\n",
    "critical_leaf_water_potential = hydraulic_conductance_model.water_potential_from_conductivity_loss_fraction(0.95)\n",
    "\n",
    "hydraulic_cost_model = HydraulicCostModel(hydraulic_conductance_model = hydraulic_conductance_model,\n",
    "                                          saturated_water_potential = soil_water_potential,\n",
    "                                          critical_leaf_water_potential = critical_leaf_water_potential)\n",
    "\n",
    "leaf_air_coupling_model = LeafAirCouplingModel()\n",
    "photosynthesis_model = PhotosynthesisModelRubiscoLimited()\n",
    "\n",
    "CO2_gain_model = CO2GainModel(leaf_air_coupling_model,\n",
    "                              photosynthesis_model)\n",
    "\n",
    "profit_optimisation_model = ProfitOptimisationModel(hydraulic_cost_model,\n",
    "                                                    leaf_air_coupling_model,\n",
    "                                                    CO2_gain_model)"
   ]
  },
  {
   "cell_type": "markdown",
   "id": "9cdb87fa",
   "metadata": {},
   "source": [
    "We can now apply the model to calculate the optimal leaf water potential along with the net CO2 uptake and transpiration rate."
   ]
  },
  {
   "cell_type": "code",
   "execution_count": null,
   "id": "05ff1ae6",
   "metadata": {},
   "outputs": [],
   "source": [
    "model_results = metoffice_data.copy()\n",
    "\n",
    "model_results['leaf water potential'], model_results['net CO2 uptake'], model_results['transpiration rates'] = \\\n",
    "    run_optimisation_model_on_data(profit_optimisation_model,\n",
    "                                   time_steps = model_results.index.to_numpy(),\n",
    "                                   soil_water_potential_values = model_results['soil water potential'].to_numpy(),\n",
    "                                   air_temperature_values = model_results['Tair'].to_numpy(),\n",
    "                                   air_vapour_pressure_deficit_values = model_results['VPD'].to_numpy(),\n",
    "                                   air_pressure_values = model_results['Psurf'].to_numpy(),\n",
    "                                   atmospheric_CO2_concentration_values = model_results['CO2air'].to_numpy(),\n",
    "                                   intercellular_oxygen_values = model_results['intercellular oxygen'].to_numpy(),\n",
    "                                   number_of_leaf_water_potential_sample_points = 1000)"
   ]
  },
  {
   "cell_type": "markdown",
   "id": "6574bb8c",
   "metadata": {},
   "source": [
    "# Plotting the ressults\n",
    "\n",
    "Having applied the model to the met data we can plot how the results change over the year."
   ]
  },
  {
   "cell_type": "code",
   "execution_count": null,
   "id": "f5c566b5",
   "metadata": {},
   "outputs": [],
   "source": [
    "fig, axis = plt.subplots(3, sharex=True)\n",
    "\n",
    "# Plot the data\n",
    "axis[0].plot(model_results.index.to_numpy(), model_results['leaf water potential'].to_numpy())\n",
    "axis[1].plot(model_results.index.to_numpy(), model_results['net CO2 uptake'].to_numpy())\n",
    "axis[2].plot(model_results.index.to_numpy(), model_results['transpiration rates'].to_numpy())\n",
    "\n",
    "# Add labels\n",
    "axis[0].set_ylabel(\"Leaf water potential (MPa)\")\n",
    "axis[1].set_ylabel(\"net CO2 uptake (umol m-2 s-1)\")\n",
    "axis[2].set_ylabel(\"transpiration rate (mmol m-2 s-1)\")\n",
    "axis[2].set_xlabel(\"date\")\n",
    "\n",
    "# Remove vertical space between sublpots\n",
    "fig.subplots_adjust(hspace = 0)\n",
    "\n",
    "# Set figure size\n",
    "fig.set_size_inches(10,15)"
   ]
  },
  {
   "cell_type": "markdown",
   "id": "3529599c",
   "metadata": {},
   "source": [
    "There is a lot of noise in these plots, this is due to us ploting the results every half hour throughout the day. To solve this problem we resample the net $CO_2$ uptake to per day, calculate the mean transpiration rate for each day and record the leaf water potential at pre dawn (6 am) and midday."
   ]
  },
  {
   "cell_type": "code",
   "execution_count": null,
   "id": "12eeda0c",
   "metadata": {},
   "outputs": [],
   "source": [
    "# We want the net CO2 per day and the average transpiration rate so lets use padas resample\n",
    "model_results_per_day = model_results[['net CO2 uptake', 'transpiration rates']].copy()\n",
    "\n",
    "# net CO2 uptake is currently per second so we need to convert to per timestep\n",
    "model_results_per_day['net CO2 uptake'] = model_results_per_day['net CO2 uptake'] * target_time_step * 60 * 60\n",
    "\n",
    "# Resample per time step to per day\n",
    "model_results_per_day = model_results_per_day.resample('D').agg({'net CO2 uptake':'sum', 'transpiration rates':'mean'})\n",
    "\n",
    "# Get the predawn and miday leaf water potential. This code shifts the values to the start of the day then pandas matches them based on the asigned time\n",
    "model_results_per_day['predawn leaf water potential'] = model_results['leaf water potential'].shift(periods = -1)\n",
    "model_results_per_day['midday leaf water potential'] = model_results['leaf water potential'].shift(periods = -2)\n",
    "\n",
    "print(model_results_per_day)"
   ]
  },
  {
   "cell_type": "markdown",
   "id": "ddb11da4",
   "metadata": {},
   "source": [
    "For consistency later we want to change the $\\text{CO}_2$ uptake from $\\text{umol m}^{-2}\\text{ d}^{-1}$ to $\\text{g C m}^{-2}\\text{ d}^{-1}$."
   ]
  },
  {
   "cell_type": "code",
   "execution_count": null,
   "id": "19d7f0b6",
   "metadata": {},
   "outputs": [],
   "source": [
    "print(model_results_per_day['net CO2 uptake'])\n",
    "\n",
    "# Convert from umol to mol\n",
    "model_results_per_day['net CO2 uptake'] = magnitude_conversion(model_results_per_day['net CO2 uptake'], 'u', '')\n",
    "\n",
    "print(model_results_per_day['net CO2 uptake'])\n",
    "\n",
    "# Convert from mol to g\n",
    "model_results_per_day['net CO2 uptake'] = mole_carbon_to_grams(model_results_per_day['net CO2 uptake'])\n",
    "\n",
    "print(model_results_per_day['net CO2 uptake'])"
   ]
  },
  {
   "cell_type": "markdown",
   "id": "a839b7c3",
   "metadata": {},
   "source": [
    "We also want to convert the transpiraion rate to latent heat flux in $\\text{W m}^{-2}$. Note that by making this conversion we are calculating the average rate over the day."
   ]
  },
  {
   "cell_type": "code",
   "execution_count": null,
   "id": "0e1204b9",
   "metadata": {},
   "outputs": [],
   "source": [
    "# mmol to mol (mol m-2 s-1)\n",
    "model_results_per_day['latent energy'] = \\\n",
    "    magnitude_conversion(model_results_per_day['transpiration rates'], 'm', '')\n",
    "\n",
    "# transpiration to latent energy (W m-2)\n",
    "model_results_per_day['latent energy'] = convert_transpiration_rate_to_latent_energy(model_results_per_day['latent energy'])"
   ]
  },
  {
   "cell_type": "markdown",
   "id": "9db4c033",
   "metadata": {},
   "source": [
    "Now everything is in the right units we can plot the results"
   ]
  },
  {
   "cell_type": "code",
   "execution_count": null,
   "id": "c0cd9295",
   "metadata": {},
   "outputs": [],
   "source": [
    "fig, axis = plt.subplots(3, sharex=True)\n",
    "\n",
    "# Plot the net CO2 uptake\n",
    "axis[0].plot(model_results_per_day.index.to_numpy(), model_results_per_day['net CO2 uptake'].to_numpy())\n",
    "\n",
    "# Plot the transpiration rate\n",
    "axis[1].plot(model_results_per_day.index.to_numpy(), model_results_per_day['latent energy'].to_numpy())\n",
    "\n",
    "# Plot the leaf water potential\n",
    "axis[2].plot(model_results_per_day.index.to_numpy(), model_results_per_day['predawn leaf water potential'].to_numpy(), label = 'six am')\n",
    "axis[2].plot(model_results_per_day.index.to_numpy(), model_results_per_day['midday leaf water potential'].to_numpy() , label = 'midday')\n",
    "axis[2].legend()\n",
    "\n",
    "# Add labels\n",
    "axis[0].set_ylabel(\"net CO2 uptake (g C m-2 d-1)\")\n",
    "axis[1].set_ylabel(\"Latent energy (W m-2)\")\n",
    "axis[2].set_ylabel(\"Leaf water potential (MPa)\")\n",
    "axis[2].set_xlabel(\"date\")\n",
    "\n",
    "# Remove vertical space between sublpots\n",
    "fig.subplots_adjust(hspace = 0)\n",
    "\n",
    "# Set figure size\n",
    "fig.set_size_inches(10,15)"
   ]
  },
  {
   "cell_type": "markdown",
   "id": "26f4980b",
   "metadata": {},
   "source": [
    "# Comparing results\n",
    "\n",
    "Now we can compare the results of running the model above to those from JULES and CABLE along with real observations. To achive this we need to first load and reformat the results files as we did for the metoffice data."
   ]
  },
  {
   "cell_type": "code",
   "execution_count": null,
   "id": "446f6072",
   "metadata": {},
   "outputs": [],
   "source": [
    "JULES_data_file_address = \"../../Example met data/local_UK-Ham_fluxnet2015_UK-Ham.UK-Ham.nc\"\n",
    "CABLE_data_file_address = \"../../Example met data/hydraulics_profitmax_manon.nc\"\n",
    "observation_data_file_address = \"../../Example met data/Alice_Holt/data/alice_holt_flux_2022.nc\"\n",
    "\n",
    "# Load files\n",
    "JULES_data = open_dataset(JULES_data_file_address, decode_times=False)\n",
    "CABLE_data = open_dataset(CABLE_data_file_address, decode_times=False)\n",
    "observation_data = open_dataset(observation_data_file_address, decode_times=False)\n",
    "\n",
    "# Reduce to relevant columns\n",
    "JULES_data = JULES_data[['GPP', 'Qle', 'fsmc']]\n",
    "CABLE_data = CABLE_data[['GPP', 'Qle', 'psi_rootzone', 'psi_can']]\n",
    "observation_data = observation_data[['Qle']]\n",
    "\n",
    "# Reduce dimentions\n",
    "JULES_data = JULES_data.squeeze(dim=[\"x\", \"y\"], drop = True)\n",
    "CABLE_data = CABLE_data.squeeze(dim=[\"x\", \"y\", \"patch\"], drop = True)\n",
    "observation_data = observation_data.squeeze(dim=[\"x\", \"y\"], drop = True)\n",
    "\n",
    "# Extract Beta from jules data and then drop fsmc\n",
    "JULES_data['beta'] = JULES_data['fsmc'][:,0]\n",
    "JULES_data = JULES_data[['GPP', 'Qle', 'beta']]\n",
    "\n",
    "# Get start date\n",
    "JULES_units, JULES_reference_date = JULES_data.time.attrs['units'].split('since')\n",
    "CABLE_units, CABLE_reference_date = CABLE_data.time.attrs['units'].split('since')\n",
    "observation_units, observation_reference_date = observation_data.time.attrs['units'].split('since')\n",
    "\n",
    "# Change start date formating\n",
    "JULES_start_date = JULES_reference_date.strip()[0:19].replace(\"-\",\"/\")\n",
    "CABLE_start_date = CABLE_reference_date.strip()[0:19].replace(\"-\",\"/\")\n",
    "observation_start_date = observation_reference_date.strip()[0:19].replace(\"-\",\"/\")\n",
    "\n",
    "# Convert to pandas object\n",
    "JULES_data = JULES_data.to_pandas()\n",
    "CABLE_data = CABLE_data.to_pandas()\n",
    "observation_data = observation_data.to_pandas()\n",
    "\n",
    "# Add date time column (this needs to be done affter converting to pandas or it is treated as an aditional dimention)\n",
    "JULES_data['date time'] = date_range(start = JULES_start_date, periods = len(JULES_data), freq = '30MIN')\n",
    "CABLE_data['date time'] = date_range(start = CABLE_start_date, periods = len(CABLE_data), freq = '30MIN')\n",
    "observation_data['date time'] = date_range(start = observation_start_date, periods = len(observation_data), freq = '30MIN')\n",
    "\n",
    "# Set the 'date time' colun as an index\n",
    "JULES_data = JULES_data.set_index('date time')\n",
    "CABLE_data = CABLE_data.set_index('date time')\n",
    "\n",
    "print(\"JULES: \\n\", JULES_data, \"\\n\")\n",
    "print(\"CABLE: \\n\", CABLE_data, \"\\n\")\n",
    "print(\"observations: \\n\", observation_data, \"\\n\")"
   ]
  },
  {
   "cell_type": "markdown",
   "id": "5b09c887",
   "metadata": {},
   "source": [
    "This data needs to be converted to the same units as that produced using the model.\n",
    "\n",
    "Let us start with the JULES data"
   ]
  },
  {
   "cell_type": "code",
   "execution_count": null,
   "id": "a47b82f7",
   "metadata": {},
   "outputs": [],
   "source": [
    "JULES_data_per_day = JULES_data.copy()\n",
    "\n",
    "# First make the carbon uptake rate grams per half hour from kilograms per second\n",
    "JULES_data_per_day['GPP'] = magnitude_conversion(JULES_data_per_day['GPP'], 'k', '')\n",
    "JULES_data_per_day['GPP'] = per_second_to_per_half_hour(JULES_data_per_day['GPP'])\n",
    "\n",
    "# Resample the results to per day taking the sum of the CO2 uptake, mean latent heat and minimum beta\n",
    "JULES_data_per_day = JULES_data_per_day.resample(\"D\").agg({'GPP':'sum', 'Qle':'mean', 'beta':'min'})\n",
    "\n",
    "print(JULES_data_per_day)"
   ]
  },
  {
   "cell_type": "markdown",
   "id": "b559dc5b",
   "metadata": {},
   "source": [
    "Now for the CABLE data."
   ]
  },
  {
   "cell_type": "code",
   "execution_count": null,
   "id": "eb6ab395",
   "metadata": {},
   "outputs": [],
   "source": [
    "CABLE_data_per_day = CABLE_data[['GPP','Qle']].copy()\n",
    "\n",
    "# convert GPP from umol m-2 s-1 to g C m-2 (0.5h)-1\n",
    "CABLE_data_per_day['GPP'] = magnitude_conversion(CABLE_data_per_day['GPP'], 'u', '')\n",
    "CABLE_data_per_day['GPP'] = per_second_to_per_half_hour(CABLE_data_per_day['GPP'])\n",
    "CABLE_data_per_day['GPP'] = mole_carbon_to_grams(CABLE_data_per_day['GPP'])\n",
    "\n",
    "# Remove any negative latent heat so they are not averaged over\n",
    "CABLE_data_per_day['Qle'].loc[CABLE_data_per_day['Qle'] < 0] = nan\n",
    "\n",
    "# Resample\n",
    "CABLE_data_per_day = CABLE_data_per_day.resample(\"D\").agg({'GPP':'sum', 'Qle':'mean'})\n",
    "\n",
    "# Add the pre dawn (6 am) and midday leaf water potentials\n",
    "CABLE_data_per_day['predawn leaf water potential'] = CABLE_data['psi_can'].resample(\"D\", offset = \"6h\" ).asfreq().iloc[1:].to_numpy()\n",
    "CABLE_data_per_day['midday leaf water potential']      = CABLE_data['psi_can'].resample(\"D\", offset = \"12h\").asfreq().iloc[1:].to_numpy()\n",
    "\n",
    "print(CABLE_data_per_day)"
   ]
  },
  {
   "cell_type": "markdown",
   "id": "ae1500f0",
   "metadata": {},
   "source": [
    "Now we can compare these data sets to the results of the model implimented above."
   ]
  },
  {
   "cell_type": "code",
   "execution_count": null,
   "id": "ea74e0b8",
   "metadata": {},
   "outputs": [],
   "source": [
    "fig, axis = plt.subplots(3, sharex=True)\n",
    "\n",
    "# Plot the net CO2 uptake\n",
    "axis[0].plot(model_results_per_day.index.to_numpy(), model_results_per_day['net CO2 uptake'].to_numpy(), label = 'implimented model')\n",
    "axis[0].plot(JULES_data_per_day.index.to_numpy()   , JULES_data_per_day['GPP'].to_numpy()              , label = 'JULES')\n",
    "axis[0].plot(CABLE_data_per_day.index.to_numpy()   , CABLE_data_per_day['GPP'].to_numpy()              , label = 'CABLE')\n",
    "axis[0].legend()\n",
    "\n",
    "# Plot the average latent heat flux for each day\n",
    "axis[1].plot(model_results_per_day.index.to_numpy(), model_results_per_day['latent energy'].to_numpy(), label = 'implimented model')\n",
    "axis[1].plot(JULES_data_per_day.index.to_numpy()   , JULES_data_per_day['Qle'].to_numpy()             , label = 'JULES')\n",
    "axis[1].plot(CABLE_data_per_day.index.to_numpy()   , CABLE_data_per_day['Qle'].to_numpy()             , label = 'CABLE')\n",
    "axis[1].legend()\n",
    "\n",
    "# Plot the leaf water potential\n",
    "axis[2].plot(CABLE_data_per_day.index.to_numpy()   , CABLE_data_per_day['predawn leaf water potential'].to_numpy()   , label = 'CABLE six am', c = '#ff7f0e')\n",
    "axis[2].plot(CABLE_data_per_day.index.to_numpy()   , CABLE_data_per_day['midday leaf water potential'].to_numpy()    , label = 'CABLE midday', c = '#ff7f0e', linestyle = '--')\n",
    "axis[2].plot(model_results_per_day.index.to_numpy(), model_results_per_day['predawn leaf water potential'].to_numpy(), label = 'model six am', c = '#1f77b4')\n",
    "axis[2].plot(model_results_per_day.index.to_numpy(), model_results_per_day['midday leaf water potential'].to_numpy() , label = 'model midday', c = '#1f77b4', linestyle = '--')\n",
    "axis[2].legend()\n",
    "\n",
    "# Add labels\n",
    "axis[0].set_ylabel(\"net CO2 uptake (g C m-2 d-1)\")\n",
    "axis[1].set_ylabel(\"Latent energy (W m-2)\")\n",
    "axis[2].set_ylabel(\"Leaf water potential (MPa)\")\n",
    "axis[2].set_xlabel(\"date\")\n",
    "\n",
    "# Remove vertical space between sublpots\n",
    "fig.subplots_adjust(hspace = 0)\n",
    "\n",
    "# Set figure size\n",
    "fig.set_size_inches(10,15)"
   ]
  },
  {
   "cell_type": "markdown",
   "id": "cb674de5",
   "metadata": {},
   "source": [
    "There is a lot of noise here so lets smooth all the data using a rolling average to make it easier to read."
   ]
  },
  {
   "cell_type": "code",
   "execution_count": null,
   "id": "97bc051e",
   "metadata": {},
   "outputs": [],
   "source": [
    "window = 4\n",
    "\n",
    "print(model_results_per_day)\n",
    "model_results_per_day = model_results_per_day.rolling(window).mean()\n",
    "JULES_data_per_day = JULES_data_per_day.rolling(window).mean()\n",
    "CABLE_data_per_day = CABLE_data_per_day.rolling(window).mean()\n",
    "print(model_results_per_day)"
   ]
  },
  {
   "cell_type": "markdown",
   "id": "f781d117",
   "metadata": {},
   "source": [
    "Now we can replot this smoothed data"
   ]
  },
  {
   "cell_type": "code",
   "execution_count": null,
   "id": "39a27258",
   "metadata": {},
   "outputs": [],
   "source": [
    "fig, axis = plt.subplots(3, sharex=True)\n",
    "\n",
    "# Plot the net CO2 uptake\n",
    "axis[0].plot(model_results_per_day.index.to_numpy(), model_results_per_day['net CO2 uptake'].to_numpy(), label = 'implimented model')\n",
    "axis[0].plot(JULES_data_per_day.index.to_numpy()   , JULES_data_per_day['GPP'].to_numpy()              , label = 'JULES')\n",
    "axis[0].plot(CABLE_data_per_day.index.to_numpy()   , CABLE_data_per_day['GPP'].to_numpy()              , label = 'CABLE')\n",
    "axis[0].legend()\n",
    "\n",
    "# Plot the average latent heat flux for each day\n",
    "axis[1].plot(model_results_per_day.index.to_numpy(), model_results_per_day['latent energy'].to_numpy(), label = 'implimented model')\n",
    "axis[1].plot(JULES_data_per_day.index.to_numpy()   , JULES_data_per_day['Qle'].to_numpy()             , label = 'JULES')\n",
    "axis[1].plot(CABLE_data_per_day.index.to_numpy()   , CABLE_data_per_day['Qle'].to_numpy()             , label = 'CABLE')\n",
    "axis[1].legend()\n",
    "\n",
    "# Plot the leaf water potential\n",
    "axis[2].plot(CABLE_data_per_day.index.to_numpy()   , CABLE_data_per_day['predawn leaf water potential'].to_numpy()   , label = 'CABLE six am', c = '#ff7f0e')\n",
    "axis[2].plot(CABLE_data_per_day.index.to_numpy()   , CABLE_data_per_day['midday leaf water potential'].to_numpy()    , label = 'CABLE midday', c = '#ff7f0e', linestyle = '--')\n",
    "axis[2].plot(model_results_per_day.index.to_numpy(), model_results_per_day['predawn leaf water potential'].to_numpy(), label = 'model six am', c = '#1f77b4')\n",
    "axis[2].plot(model_results_per_day.index.to_numpy(), model_results_per_day['midday leaf water potential'].to_numpy() , label = 'model midday', c = '#1f77b4', linestyle = '--')\n",
    "axis[2].legend()\n",
    "\n",
    "# Add labels\n",
    "axis[0].set_ylabel(\"net CO2 uptake (g C m-2 d-1)\")\n",
    "axis[1].set_ylabel(\"Latent energy (W m-2)\")\n",
    "axis[2].set_ylabel(\"Leaf water potential (MPa)\")\n",
    "axis[2].set_xlabel(\"date\")\n",
    "\n",
    "# Remove vertical space between sublpots\n",
    "fig.subplots_adjust(hspace = 0)\n",
    "\n",
    "# Set figure size\n",
    "fig.set_size_inches(10,15)"
   ]
  },
  {
   "cell_type": "code",
   "execution_count": null,
   "id": "0e489109",
   "metadata": {},
   "outputs": [],
   "source": []
  }
 ],
 "metadata": {
  "kernelspec": {
   "display_name": "Python 3 (ipykernel)",
   "language": "python",
   "name": "python3"
  },
  "language_info": {
   "codemirror_mode": {
    "name": "ipython",
    "version": 3
   },
   "file_extension": ".py",
   "mimetype": "text/x-python",
   "name": "python",
   "nbconvert_exporter": "python",
   "pygments_lexer": "ipython3",
   "version": "3.11.5"
  }
 },
 "nbformat": 4,
 "nbformat_minor": 5
}
