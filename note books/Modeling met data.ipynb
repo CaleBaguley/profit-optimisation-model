{
 "cells": [
  {
   "cell_type": "markdown",
   "id": "54d7165a",
   "metadata": {},
   "source": [
    "The purpose of this note book is to apply the profit optiisation model to make predictions based on a set of met office data. This can then also be compared to Manon's results.\n",
    "\n",
    "The code bellow imports the necessary python packages."
   ]
  },
  {
   "cell_type": "code",
   "execution_count": 1,
   "id": "66e5205d",
   "metadata": {},
   "outputs": [],
   "source": [
    "import sys\n",
    "sys.path.append('../')\n",
    "\n",
    "from src.vapour_pressure_deficit_calculation import vapour_pressure_deficit\n",
    "\n",
    "from xarray import open_dataset\n",
    "from pandas import DataFrame, date_range"
   ]
  },
  {
   "cell_type": "markdown",
   "id": "54ba23c4",
   "metadata": {},
   "source": [
    "# Metoffice data\n",
    "\n",
    "To run the model we need a set of environmental data, this we get from a netcdf file. The code bellow imports and prints a description of this file."
   ]
  },
  {
   "cell_type": "code",
   "execution_count": 2,
   "id": "dc046140",
   "metadata": {},
   "outputs": [
    {
     "name": "stdout",
     "output_type": "stream",
     "text": [
      "<xarray.Dataset>\n",
      "Dimensions:    (time: 17520, z: 1, y: 1, x: 1)\n",
      "Coordinates:\n",
      "  * time       (time) float64 0.0 1.8e+03 3.6e+03 ... 3.153e+07 3.153e+07\n",
      "  * z          (z) float64 1.0\n",
      "  * y          (y) float64 1.0\n",
      "  * x          (x) float64 1.0\n",
      "Data variables:\n",
      "    latitude   (y, x) float64 ...\n",
      "    longitude  (y, x) float64 ...\n",
      "    SWdown     (time, y, x) float64 ...\n",
      "    Tair       (time, y, x) float64 ...\n",
      "    Precip     (time, y, x) float64 ...\n",
      "    Qair       (time, y, x) float64 ...\n",
      "    Wind       (time, y, x) float64 ...\n",
      "    Psurf      (time, y, x) float64 ...\n",
      "    LWdown     (time, y, x) float64 ...\n",
      "    CO2air     (time, z, y, x) float64 ...\n",
      "    za_tq      (y, x) float64 ...\n",
      "    za_uv      (y, x) float64 ...\n",
      "Attributes:\n",
      "    description:    Alice Holt met data, created by Martin De Kauwe\n",
      "    history:        Created by: generate_met_file_2022_JULES.py\n",
      "    creation_date:  2023-06-30 12:33:02.874471\n",
      "    contact:        mdekauwe@gmail.com\n"
     ]
    }
   ],
   "source": [
    "metoffice_data_file_address = \"../../Example met data/Alice_Holt/data/UK-Ham_2002-2003_Met.nc\"\n",
    "\n",
    "metoffice_data_file = open_dataset(metoffice_data_file_address, decode_times = False)\n",
    "\n",
    "print(metoffice_data_file)"
   ]
  },
  {
   "cell_type": "markdown",
   "id": "e4fadc7f",
   "metadata": {},
   "source": [
    "We can take a closer look at the available data \"columns\" using the keys property."
   ]
  },
  {
   "cell_type": "code",
   "execution_count": 3,
   "id": "c3ea818c",
   "metadata": {},
   "outputs": [
    {
     "name": "stdout",
     "output_type": "stream",
     "text": [
      "<bound method Mapping.keys of <xarray.Dataset>\n",
      "Dimensions:    (time: 17520, z: 1, y: 1, x: 1)\n",
      "Coordinates:\n",
      "  * time       (time) float64 0.0 1.8e+03 3.6e+03 ... 3.153e+07 3.153e+07\n",
      "  * z          (z) float64 1.0\n",
      "  * y          (y) float64 1.0\n",
      "  * x          (x) float64 1.0\n",
      "Data variables:\n",
      "    latitude   (y, x) float64 ...\n",
      "    longitude  (y, x) float64 ...\n",
      "    SWdown     (time, y, x) float64 ...\n",
      "    Tair       (time, y, x) float64 ...\n",
      "    Precip     (time, y, x) float64 ...\n",
      "    Qair       (time, y, x) float64 ...\n",
      "    Wind       (time, y, x) float64 ...\n",
      "    Psurf      (time, y, x) float64 ...\n",
      "    LWdown     (time, y, x) float64 ...\n",
      "    CO2air     (time, z, y, x) float64 ...\n",
      "    za_tq      (y, x) float64 ...\n",
      "    za_uv      (y, x) float64 ...\n",
      "Attributes:\n",
      "    description:    Alice Holt met data, created by Martin De Kauwe\n",
      "    history:        Created by: generate_met_file_2022_JULES.py\n",
      "    creation_date:  2023-06-30 12:33:02.874471\n",
      "    contact:        mdekauwe@gmail.com>\n"
     ]
    }
   ],
   "source": [
    "print(metoffice_data_file.keys)"
   ]
  },
  {
   "cell_type": "markdown",
   "id": "0efcbf3d",
   "metadata": {},
   "source": [
    "Alternativly you can inspect a netcdf file without the need to write python code. For example to view the header of the netcdf file from the terminal use the following command: \n",
    "\n",
    "$$ \\text{ncdump -h file_address} $$\n",
    "\n",
    "Note the -h restricts the output to only the header, if it is removed the entier file is printed. \n",
    "\n",
    "Alternativly for a graphical interface you can open the file using nasas panoply software (https://www.giss.nasa.gov/tools/panoply/download/)."
   ]
  },
  {
   "cell_type": "markdown",
   "id": "a50e4265",
   "metadata": {},
   "source": [
    "From this file we only want a subset of the columns, specificaly air temperature, specific humidity, air pressure at the ground surface and the $CO_2$ fraction of the air. These columns are labeld Tair, Qair, Psurf and CO2air respectivly. The code bellow reduces the data to just these columns."
   ]
  },
  {
   "cell_type": "code",
   "execution_count": 4,
   "id": "acce6e00",
   "metadata": {},
   "outputs": [
    {
     "name": "stdout",
     "output_type": "stream",
     "text": [
      "<xarray.Dataset>\n",
      "Dimensions:  (time: 17520, y: 1, x: 1, z: 1)\n",
      "Coordinates:\n",
      "  * time     (time) float64 0.0 1.8e+03 3.6e+03 ... 3.153e+07 3.153e+07\n",
      "  * z        (z) float64 1.0\n",
      "  * y        (y) float64 1.0\n",
      "  * x        (x) float64 1.0\n",
      "Data variables:\n",
      "    Tair     (time, y, x) float64 ...\n",
      "    Qair     (time, y, x) float64 ...\n",
      "    Psurf    (time, y, x) float64 ...\n",
      "    CO2air   (time, z, y, x) float64 ...\n",
      "Attributes:\n",
      "    description:    Alice Holt met data, created by Martin De Kauwe\n",
      "    history:        Created by: generate_met_file_2022_JULES.py\n",
      "    creation_date:  2023-06-30 12:33:02.874471\n",
      "    contact:        mdekauwe@gmail.com\n"
     ]
    }
   ],
   "source": [
    "met_columns = [\"Tair\", \"Qair\", \"Psurf\", \"CO2air\"]\n",
    "metoffice_data = metoffice_data_file[met_columns]\n",
    "\n",
    "print(metoffice_data)"
   ]
  },
  {
   "cell_type": "markdown",
   "id": "567785a8",
   "metadata": {},
   "source": [
    "We can see that each column is actualy three dimentional. The first dimension coressponds to the time at wich the measurment is conducted. The remaining two dimentions \"x\" and \"y\" are needed when running simulations over a grid of adjacent sites, and \"z\" is used to brake the atmospher into different cells. The data in this particular file only uses one site and a single hight cell so we can remove these three diemtions."
   ]
  },
  {
   "cell_type": "code",
   "execution_count": 5,
   "id": "eb72f81e",
   "metadata": {},
   "outputs": [
    {
     "name": "stdout",
     "output_type": "stream",
     "text": [
      "<xarray.Dataset>\n",
      "Dimensions:  (time: 17520)\n",
      "Coordinates:\n",
      "  * time     (time) float64 0.0 1.8e+03 3.6e+03 ... 3.153e+07 3.153e+07\n",
      "Data variables:\n",
      "    Tair     (time) float64 ...\n",
      "    Qair     (time) float64 ...\n",
      "    Psurf    (time) float64 ...\n",
      "    CO2air   (time) float64 ...\n",
      "Attributes:\n",
      "    description:    Alice Holt met data, created by Martin De Kauwe\n",
      "    history:        Created by: generate_met_file_2022_JULES.py\n",
      "    creation_date:  2023-06-30 12:33:02.874471\n",
      "    contact:        mdekauwe@gmail.com\n"
     ]
    }
   ],
   "source": [
    "metoffice_data = metoffice_data.squeeze(dim=[\"x\", \"y\", \"z\"], drop = True)\n",
    "\n",
    "print(metoffice_data)"
   ]
  },
  {
   "cell_type": "markdown",
   "id": "85602e0e",
   "metadata": {},
   "source": [
    "Next we convert this into a pandas data frame to make it easier to work with."
   ]
  },
  {
   "cell_type": "code",
   "execution_count": 6,
   "id": "8198783c",
   "metadata": {},
   "outputs": [
    {
     "name": "stdout",
     "output_type": "stream",
     "text": [
      "               Tair      Qair     Psurf  CO2air\n",
      "time                                           \n",
      "0.0         289.322  0.006778  101608.0  418.56\n",
      "1800.0      289.322  0.006778  101608.0  418.56\n",
      "3600.0      287.886  0.006796  101628.0  418.56\n",
      "5400.0      287.886  0.006796  101628.0  418.56\n",
      "7200.0      286.193  0.006731  101659.0  418.56\n",
      "...             ...       ...       ...     ...\n",
      "31527000.0  285.735  0.006571   99948.7  418.56\n",
      "31528800.0  286.414  0.006736   99905.7  418.56\n",
      "31530600.0  286.414  0.006736   99905.7  418.56\n",
      "31532400.0  285.521  0.007251   99803.2  418.56\n",
      "31534200.0  285.521  0.007251   99803.2  418.56\n",
      "\n",
      "[17520 rows x 4 columns]\n"
     ]
    }
   ],
   "source": [
    "metoffice_data = metoffice_data.to_pandas()\n",
    "\n",
    "print(metoffice_data)"
   ]
  },
  {
   "cell_type": "markdown",
   "id": "8b1c1a1f",
   "metadata": {},
   "source": [
    "Inorder to run the profit optimisation model we need the vapour pressure deficit in $kPa$."
   ]
  },
  {
   "cell_type": "code",
   "execution_count": 7,
   "id": "6ba9d9bf",
   "metadata": {},
   "outputs": [
    {
     "name": "stdout",
     "output_type": "stream",
     "text": [
      "               Tair      Qair     Psurf  CO2air       VPD\n",
      "time                                                     \n",
      "0.0         289.322  0.006778  101608.0  418.56  0.734297\n",
      "1800.0      289.322  0.006778  101608.0  418.56  0.734297\n",
      "3600.0      287.886  0.006796  101628.0  418.56  0.569528\n",
      "5400.0      287.886  0.006796  101628.0  418.56  0.569528\n",
      "7200.0      286.193  0.006731  101659.0  418.56  0.405156\n",
      "...             ...       ...       ...     ...       ...\n",
      "31527000.0  285.735  0.006571   99948.7  418.56  0.404794\n",
      "31528800.0  286.414  0.006736   99905.7  418.56  0.445145\n",
      "31530600.0  286.414  0.006736   99905.7  418.56  0.445145\n",
      "31532400.0  285.521  0.007251   99803.2  418.56  0.277809\n",
      "31534200.0  285.521  0.007251   99803.2  418.56  0.277809\n",
      "\n",
      "[17520 rows x 5 columns]\n"
     ]
    }
   ],
   "source": [
    "metoffice_data['VPD'] = vapour_pressure_deficit(metoffice_data['Tair'],\n",
    "                                                metoffice_data['Qair'],\n",
    "                                                metoffice_data['Psurf'])\n",
    "\n",
    "print(metoffice_data)"
   ]
  },
  {
   "cell_type": "markdown",
   "id": "30ed5097",
   "metadata": {},
   "source": [
    "The time column here is not in the format we necesseraly want so lets create another column with the date and time of each measurement."
   ]
  },
  {
   "cell_type": "code",
   "execution_count": 8,
   "id": "48a1eb0e",
   "metadata": {},
   "outputs": [
    {
     "name": "stdout",
     "output_type": "stream",
     "text": [
      "               Tair      Qair     Psurf  CO2air       VPD           date time\n",
      "time                                                                         \n",
      "0.0         289.322  0.006778  101608.0  418.56  0.734297 2022-01-01 00:00:00\n",
      "1800.0      289.322  0.006778  101608.0  418.56  0.734297 2022-01-01 00:30:00\n",
      "3600.0      287.886  0.006796  101628.0  418.56  0.569528 2022-01-01 01:00:00\n",
      "5400.0      287.886  0.006796  101628.0  418.56  0.569528 2022-01-01 01:30:00\n",
      "7200.0      286.193  0.006731  101659.0  418.56  0.405156 2022-01-01 02:00:00\n",
      "...             ...       ...       ...     ...       ...                 ...\n",
      "31527000.0  285.735  0.006571   99948.7  418.56  0.404794 2022-12-31 21:30:00\n",
      "31528800.0  286.414  0.006736   99905.7  418.56  0.445145 2022-12-31 22:00:00\n",
      "31530600.0  286.414  0.006736   99905.7  418.56  0.445145 2022-12-31 22:30:00\n",
      "31532400.0  285.521  0.007251   99803.2  418.56  0.277809 2022-12-31 23:00:00\n",
      "31534200.0  285.521  0.007251   99803.2  418.56  0.277809 2022-12-31 23:30:00\n",
      "\n",
      "[17520 rows x 6 columns]\n"
     ]
    }
   ],
   "source": [
    "units, reference_date = metoffice_data_file.time.attrs['units'].split('since')\n",
    "\n",
    "start = reference_date.strip()[0:19].replace(\"-\",\"/\")\n",
    "\n",
    "metoffice_data['date time'] = date_range(start = start, periods = len(metoffice_data), freq = '30MIN')\n",
    "\n",
    "print(metoffice_data)"
   ]
  }
 ],
 "metadata": {
  "kernelspec": {
   "display_name": "Python 3 (ipykernel)",
   "language": "python",
   "name": "python3"
  },
  "language_info": {
   "codemirror_mode": {
    "name": "ipython",
    "version": 3
   },
   "file_extension": ".py",
   "mimetype": "text/x-python",
   "name": "python",
   "nbconvert_exporter": "python",
   "pygments_lexer": "ipython3",
   "version": "3.11.5"
  }
 },
 "nbformat": 4,
 "nbformat_minor": 5
}
