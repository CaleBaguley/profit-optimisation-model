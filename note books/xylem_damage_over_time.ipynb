{
 "cells": [
  {
   "cell_type": "markdown",
   "id": "f3b6e02a-4452-43b4-9b1d-7993684b1a42",
   "metadata": {},
   "source": [
    "The purpose of this notebook is to look at how the different xylem damage models impact the optimal stomatal size and resulting CO2 flux of a tree over time."
   ]
  },
  {
   "cell_type": "code",
   "execution_count": 1,
   "id": "ff1a08a6-ec98-4cc6-8595-c868677851c3",
   "metadata": {},
   "outputs": [],
   "source": [
    "import sys\n",
    "sys.path.append('../')\n",
    "\n",
    "from src.vapour_pressure_deficit_calculation import vapour_pressure_deficit\n",
    "from src.leaf_air_coupling_model import LeafAirCouplingModel\n",
    "from src.rubisco_CO2_and_O_model import RubiscoRates\n",
    "from src.electron_transport_rate_model import ElectronTransportRateModel\n",
    "\n",
    "# -- Conductance models --\n",
    "from src.HydraulicConductanceModels.cumulative_Weibull_distribution_model import cumulative_Weibull_distribution_from_conductance_loss_at_given_water_potentials\n",
    "from src.HydraulicConductanceModels.capped_conductance_model import CappedHydraulicConductanceModel\n",
    "from src.HydraulicConductanceModels.D_S_Mackay_damage_model import D_S_Mackay_damage_model_from_conductance_loss\n",
    "\n",
    "# -- Temperature dependency models --\n",
    "from src.TemperatureDependenceModels.arrhenius_and_peaked_arrhenius_function import PeakedArrheniusModel, ArrheniusModel\n",
    "from src.TemperatureDependenceModels.Q10_temperature_dependence_model import Q10TemperatureDependenceModel\n",
    "from src.TemperatureDependenceModels.temperature_dependence_model import LowTemperatureAdjustedModel\n",
    "\n",
    "# -- Photosynthesis models --\n",
    "from src.PhotosynthesisModels.photosynthesis_model import PhotosynthesisModel\n",
    "from src.PhotosynthesisModels.Bonan_Model import PhotosynthesisModelRubiscoLimitedBonan as PhotosynthesisModelRubiscoLimited\n",
    "from src.PhotosynthesisModels.Bonan_Model import PhotosynthesisModelElectronTransportLimitedBonan as PhotosynthesisModelElectronTransportLimited\n",
    "\n",
    "# -- Profit Models --\n",
    "from src.ProfitModels.CO2GainModels.CO2_gain_profit_max_model import ProfitMaxCO2GainModel as CO2GainModel\n",
    "from src.ProfitModels.HydraulicCostModels.hydraulic_cost_profit_max_model import ProfitMaxHydraulicCostModel as HydraulicCostModel\n",
    "from src.ProfitModels.profit_max_model import ProfitMaxModel\n",
    "\n",
    "from src.conversions import (magnitude_conversion,\n",
    "                             mole_carbon_to_grams,\n",
    "                             per_day_to_per_second,\n",
    "                             per_second_to_per_half_hour,\n",
    "                             convert_transpiration_rate_to_latent_energy,\n",
    "                             short_wave_to_photosynthetically_active_radiation,\n",
    "                             light_energy_in_joules_to_micro_moles_of_light,\n",
    "                             degrees_kelvin_to_centigrade,\n",
    "                             degrees_centigrade_to_kelvin,\n",
    "                             convert_stomatal_conductance_of_carbon_to_water)\n",
    "\n",
    "from xarray import open_dataset\n",
    "from pandas import DataFrame, date_range\n",
    "from numpy import nan, zeros\n",
    "\n",
    "from matplotlib import pyplot as plt"
   ]
  },
  {
   "cell_type": "markdown",
   "id": "afb06339-84a7-41f9-9561-b64e87abfb3e",
   "metadata": {},
   "source": [
    "# Model setup\n",
    "\n",
    "Before we are able to investigate. anything it is necessary to setup a control and multiple test models. For comparative purposes we will use a cumulative Weibull distribution as the base conductance model, with the xylem damage models being both a capped conductance model, and the model described in [D.S.Mackay et. al. 2015](https://agupubs.onlinelibrary.wiley.com/doi/10.1002/2015WR017244).\n",
    "\n",
    "## Conductance Model\n",
    "The code segment bellow sets up the three different conductance models with xylem damage."
   ]
  },
  {
   "cell_type": "code",
   "execution_count": 2,
   "id": "92afd416-af02-477b-801c-5ae9c582447a",
   "metadata": {},
   "outputs": [],
   "source": [
    "# Conductance model\n",
    "P50 = -4.739999999999999 # MPa\n",
    "P88 = -5.476604474129552 # MPa\n",
    "k_max = 0.2 # mmol m-2 s-1 MPa-1\n",
    "\n",
    "critical_conductance_loss_fraction = 0.9\n",
    "xylem_recovery_water_potnetial = 0.\n",
    "PLC_damage_threshold = 0.1\n",
    "\n",
    "default_CW_conductance_model = cumulative_Weibull_distribution_from_conductance_loss_at_given_water_potentials(k_max,\n",
    "                                                                                                               P50,\n",
    "                                                                                                               P88,\n",
    "                                                                                                               0.50,\n",
    "                                                                                                               0.88,\n",
    "                                                                                                               critical_conductance_loss_fraction,\n",
    "                                                                                                               xylem_recovery_water_potnetial,\n",
    "                                                                                                               PLC_damage_threshold\n",
    "                                                                                                              )\n",
    "\n",
    "capped_CW_conductance_model = CappedHydraulicConductanceModel(default_CW_conductance_model,\n",
    "                                                              1.1*k_max\n",
    "                                                             )\n",
    "\n",
    "D_S_Mackay_CW_conductance_model = D_S_Mackay_damage_model_from_conductance_loss(k_max,\n",
    "                                                                                P50,\n",
    "                                                                                P88,\n",
    "                                                                                0.50,\n",
    "                                                                                0.88,\n",
    "                                                                                critical_conductance_loss_fraction,\n",
    "                                                                                xylem_recovery_water_potnetial,\n",
    "                                                                                PLC_damage_threshold\n",
    "                                                                               )"
   ]
  },
  {
   "cell_type": "markdown",
   "id": "d7feb0b7-d161-4d38-91cd-8324411bed49",
   "metadata": {},
   "source": [
    "## Hydraulic cost models"
   ]
  },
  {
   "cell_type": "code",
   "execution_count": 3,
   "id": "cd9dff65-3ac1-4085-804f-93b7d1d06377",
   "metadata": {},
   "outputs": [],
   "source": [
    "critical_leaf_water_potential = default_CW_conductance_model.water_potential_from_conductivity_loss_fraction(0.95)\n",
    "\n",
    "default_CW_hydraulic_cost_model = HydraulicCostModel(default_CW_conductance_model,\n",
    "                                                     critical_leaf_water_potential\n",
    "                                                    )\n",
    "\n",
    "capped_CW_hydraulic_cost_model = HydraulicCostModel(capped_CW_conductance_model,\n",
    "                                                    critical_leaf_water_potential\n",
    "                                                   )\n",
    "\n",
    "D_S_Mackay_CW_hydraulic_cost_model = HydraulicCostModel(D_S_Mackay_CW_conductance_model,\n",
    "                                                        critical_leaf_water_potential\n",
    "                                                       )"
   ]
  },
  {
   "cell_type": "markdown",
   "id": "b125fbe7-8fc6-4b1c-8ae8-1b7902827dfb",
   "metadata": {},
   "source": [
    "## Leaf atmosphere coupling"
   ]
  },
  {
   "cell_type": "code",
   "execution_count": 4,
   "id": "7df099c6-fc56-4a6f-ac19-8fdd4a997cb6",
   "metadata": {},
   "outputs": [],
   "source": [
    "leaf_air_coupling_model = LeafAirCouplingModel()"
   ]
  },
  {
   "cell_type": "markdown",
   "id": "78c5a998-0260-4202-b945-be3514a0d5cc",
   "metadata": {},
   "source": [
    "## Photosynthesis model"
   ]
  },
  {
   "cell_type": "code",
   "execution_count": 5,
   "id": "26ee74df-37c4-4254-bf45-013de364c97b",
   "metadata": {},
   "outputs": [],
   "source": [
    "# -- Rubisco limited model --\n",
    "photosynthesis_rubisco_limited_model = PhotosynthesisModelRubiscoLimited()\n",
    "\n",
    "# -- Electron transport rate limmited model --\n",
    "photosynthesis_electron_transport_limited_model = PhotosynthesisModelElectronTransportLimited()\n",
    "\n",
    "photosynthesis_model = PhotosynthesisModel(photosynthesis_rubisco_limited_model,\n",
    "                                           photosynthesis_electron_transport_limited_model\n",
    "                                          )"
   ]
  },
  {
   "cell_type": "markdown",
   "id": "984265eb-4ae8-4e31-a790-7b8f5de074e5",
   "metadata": {},
   "source": [
    "## CO2 gain"
   ]
  },
  {
   "cell_type": "code",
   "execution_count": 6,
   "id": "12e5e250-5ffe-4694-950b-6536c8db21ca",
   "metadata": {},
   "outputs": [],
   "source": [
    "CO2_gain_model = CO2GainModel(leaf_air_coupling_model,\n",
    "                              photosynthesis_model)"
   ]
  },
  {
   "cell_type": "markdown",
   "id": "e845be60-8b0d-405d-aab3-708552193fbe",
   "metadata": {},
   "source": [
    "## Profet optimisation models\n",
    "\n",
    "Now we create a profit optimisation model for each of the different conductance models."
   ]
  },
  {
   "cell_type": "code",
   "execution_count": 7,
   "id": "56c99d86-d72c-427f-8d18-1b99ea6376e3",
   "metadata": {},
   "outputs": [],
   "source": [
    "default_CW_profit_optimisation_model = ProfitMaxModel(default_CW_hydraulic_cost_model,\n",
    "                                                      leaf_air_coupling_model,\n",
    "                                                      CO2_gain_model\n",
    "                                                     )\n",
    "\n",
    "capped_CW_profit_optimisation_model = ProfitMaxModel(capped_CW_hydraulic_cost_model,\n",
    "                                                     leaf_air_coupling_model,\n",
    "                                                     CO2_gain_model\n",
    "                                                    )\n",
    "\n",
    "D_S_Mackay_CW_profit_optimisation_model = ProfitMaxModel(D_S_Mackay_CW_hydraulic_cost_model,\n",
    "                                                         leaf_air_coupling_model,\n",
    "                                                         CO2_gain_model\n",
    "                                                        )"
   ]
  },
  {
   "cell_type": "markdown",
   "id": "f311cc40-4551-49d1-b00c-11833215ff39",
   "metadata": {},
   "source": [
    "# constant environmental conditions\n",
    "\n",
    "The first thing to test is how the different models behave under the set of constant environmental conditions listed in the code block below."
   ]
  },
  {
   "cell_type": "code",
   "execution_count": 8,
   "id": "d23252a6-84d3-4618-a216-a385d71bdb61",
   "metadata": {},
   "outputs": [],
   "source": [
    "# Soil properties\n",
    "soil_water_potential = -0.5 # MPa\n",
    "\n",
    "# Temperature\n",
    "air_temperature = degrees_centigrade_to_kelvin(25.)\n",
    "\n",
    "# Transpiration drivers\n",
    "air_vapour_pressure_deficit = 1 # kPa\n",
    "air_pressure = 101.9 # kPa\n",
    "\n",
    "# Photosynthesis drivers\n",
    "atmospheric_CO2_concentration = 419. # (umol mol-1)\n",
    "photosynthetically_active_radiation = 500. #(umol m-2 s-1)\n",
    "intercellular_oxygen = 210.0 #(umol mol-1)"
   ]
  },
  {
   "cell_type": "markdown",
   "id": "79cf9e0a-04b3-4200-88ad-c4cf70c3bcbb",
   "metadata": {},
   "source": [
    "Lets apply this over a series of time steps recording the outputs of each model."
   ]
  },
  {
   "cell_type": "code",
   "execution_count": 11,
   "id": "db93a858-f432-461d-835a-3193de55387d",
   "metadata": {},
   "outputs": [
    {
     "ename": "Exception",
     "evalue": "water_potential_from_conductivity_loss_fraction not calculable in capped conductance model",
     "output_type": "error",
     "traceback": [
      "\u001b[0;31m---------------------------------------------------------------------------\u001b[0m",
      "\u001b[0;31mException\u001b[0m                                 Traceback (most recent call last)",
      "Cell \u001b[0;32mIn[11], line 35\u001b[0m\n\u001b[1;32m     16\u001b[0m \u001b[38;5;28;01mfor\u001b[39;00m i \u001b[38;5;129;01min\u001b[39;00m \u001b[38;5;28mrange\u001b[39m(time_steps):\n\u001b[1;32m     17\u001b[0m     [optimal_leaf_water_potential[i,\u001b[38;5;241m0\u001b[39m],\n\u001b[1;32m     18\u001b[0m      net_CO2_uptake[i,\u001b[38;5;241m0\u001b[39m],\n\u001b[1;32m     19\u001b[0m      transpiration_rate[i,\u001b[38;5;241m0\u001b[39m],\n\u001b[0;32m   (...)\u001b[0m\n\u001b[1;32m     28\u001b[0m                                                                                                   photosynthetically_active_radiation,\n\u001b[1;32m     29\u001b[0m                                                                                                   number_of_sample_points)\n\u001b[1;32m     31\u001b[0m     [optimal_leaf_water_potential[i,\u001b[38;5;241m1\u001b[39m],\n\u001b[1;32m     32\u001b[0m      net_CO2_uptake[i,\u001b[38;5;241m1\u001b[39m],\n\u001b[1;32m     33\u001b[0m      transpiration_rate[i,\u001b[38;5;241m1\u001b[39m],\n\u001b[1;32m     34\u001b[0m      intercellular_CO2[i,\u001b[38;5;241m1\u001b[39m],\n\u001b[0;32m---> 35\u001b[0m      stomatal_conductance_to_CO2[i,\u001b[38;5;241m1\u001b[39m]] \u001b[38;5;241m=\u001b[39m \u001b[43mcapped_CW_profit_optimisation_model\u001b[49m\u001b[38;5;241;43m.\u001b[39;49m\u001b[43mcalculate_time_step\u001b[49m\u001b[43m(\u001b[49m\u001b[43mtime_step_size\u001b[49m\u001b[43m,\u001b[49m\n\u001b[1;32m     36\u001b[0m \u001b[43m                                                                                                 \u001b[49m\u001b[43msoil_water_potential\u001b[49m\u001b[43m,\u001b[49m\n\u001b[1;32m     37\u001b[0m \u001b[43m                                                                                                 \u001b[49m\u001b[43mair_temperature\u001b[49m\u001b[43m,\u001b[49m\n\u001b[1;32m     38\u001b[0m \u001b[43m                                                                                                 \u001b[49m\u001b[43mair_vapour_pressure_deficit\u001b[49m\u001b[43m,\u001b[49m\n\u001b[1;32m     39\u001b[0m \u001b[43m                                                                                                 \u001b[49m\u001b[43mair_pressure\u001b[49m\u001b[43m,\u001b[49m\n\u001b[1;32m     40\u001b[0m \u001b[43m                                                                                                 \u001b[49m\u001b[43matmospheric_CO2_concentration\u001b[49m\u001b[43m,\u001b[49m\n\u001b[1;32m     41\u001b[0m \u001b[43m                                                                                                 \u001b[49m\u001b[43mintercellular_oxygen\u001b[49m\u001b[43m,\u001b[49m\n\u001b[1;32m     42\u001b[0m \u001b[43m                                                                                                 \u001b[49m\u001b[43mphotosynthetically_active_radiation\u001b[49m\u001b[43m,\u001b[49m\n\u001b[1;32m     43\u001b[0m \u001b[43m                                                                                                 \u001b[49m\u001b[43mnumber_of_sample_points\u001b[49m\u001b[43m)\u001b[49m\n\u001b[1;32m     45\u001b[0m     [optimal_leaf_water_potential[i,\u001b[38;5;241m2\u001b[39m],\n\u001b[1;32m     46\u001b[0m      net_CO2_uptake[i,\u001b[38;5;241m2\u001b[39m],\n\u001b[1;32m     47\u001b[0m      transpiration_rate[i,\u001b[38;5;241m2\u001b[39m],\n\u001b[0;32m   (...)\u001b[0m\n\u001b[1;32m     56\u001b[0m                                                                                                      photosynthetically_active_radiation,\n\u001b[1;32m     57\u001b[0m                                                                                                      number_of_sample_points)\n",
      "File \u001b[0;32m~/Desktop/Training/Getting started with tree models/profit-optimisation-model/note books/../src/ProfitModels/profit_optimisation_model.py:208\u001b[0m, in \u001b[0;36mProfitOptimisationModel.calculate_time_step\u001b[0;34m(self, step_size, soil_water_potential, air_temperature, air_vapour_pressure_deficit, air_pressure, atmospheric_CO2_concentration, intercellular_oxygen, photosynthetically_active_radiation, number_of_sample_points)\u001b[0m\n\u001b[1;32m    179\u001b[0m \u001b[38;5;250m\u001b[39m\u001b[38;5;124;03m\"\"\"\u001b[39;00m\n\u001b[1;32m    180\u001b[0m \u001b[38;5;124;03mMethod to calculate plant properties for a single time step.\u001b[39;00m\n\u001b[1;32m    181\u001b[0m \n\u001b[0;32m   (...)\u001b[0m\n\u001b[1;32m    196\u001b[0m \u001b[38;5;124;03m@return: stomatal_conductance_to_CO2: mol m-2 s-1 float\u001b[39;00m\n\u001b[1;32m    197\u001b[0m \u001b[38;5;124;03m\"\"\"\u001b[39;00m\n\u001b[1;32m    199\u001b[0m output \u001b[38;5;241m=\u001b[39m \u001b[38;5;28mself\u001b[39m\u001b[38;5;241m.\u001b[39moptimal_state(soil_water_potential,\n\u001b[1;32m    200\u001b[0m                             air_temperature,\n\u001b[1;32m    201\u001b[0m                             air_vapour_pressure_deficit,\n\u001b[0;32m   (...)\u001b[0m\n\u001b[1;32m    205\u001b[0m                             photosynthetically_active_radiation,\n\u001b[1;32m    206\u001b[0m                             number_of_sample_points)\n\u001b[0;32m--> 208\u001b[0m \u001b[38;5;28;43mself\u001b[39;49m\u001b[38;5;241;43m.\u001b[39;49m\u001b[43m_hydraulic_cost_model\u001b[49m\u001b[38;5;241;43m.\u001b[39;49m\u001b[43mupdate_xylem_damage\u001b[49m\u001b[43m(\u001b[49m\u001b[43moutput\u001b[49m\u001b[43m[\u001b[49m\u001b[38;5;241;43m0\u001b[39;49m\u001b[43m]\u001b[49m\u001b[43m,\u001b[49m\u001b[43m \u001b[49m\u001b[43mstep_size\u001b[49m\u001b[43m,\u001b[49m\u001b[43m \u001b[49m\u001b[43moutput\u001b[49m\u001b[43m[\u001b[49m\u001b[38;5;241;43m2\u001b[39;49m\u001b[43m]\u001b[49m\u001b[43m)\u001b[49m\n\u001b[1;32m    210\u001b[0m \u001b[38;5;28;01mreturn\u001b[39;00m output\n",
      "File \u001b[0;32m~/Desktop/Training/Getting started with tree models/profit-optimisation-model/note books/../src/ProfitModels/HydraulicCostModels/hydraulic_cost_model.py:91\u001b[0m, in \u001b[0;36mHydraulicCostModel.update_xylem_damage\u001b[0;34m(self, water_potential, timestep, transpiration_rate)\u001b[0m\n\u001b[1;32m     84\u001b[0m \u001b[38;5;28;01mdef\u001b[39;00m \u001b[38;5;21mupdate_xylem_damage\u001b[39m(\u001b[38;5;28mself\u001b[39m, water_potential, timestep, transpiration_rate):\n\u001b[1;32m     85\u001b[0m \u001b[38;5;250m    \u001b[39m\u001b[38;5;124;03m\"\"\"\u001b[39;00m\n\u001b[1;32m     86\u001b[0m \u001b[38;5;124;03m    @param water_potential:\u001b[39;00m\n\u001b[1;32m     87\u001b[0m \u001b[38;5;124;03m    @param timestep:\u001b[39;00m\n\u001b[1;32m     88\u001b[0m \u001b[38;5;124;03m    @param transpiration_rate:\u001b[39;00m\n\u001b[1;32m     89\u001b[0m \u001b[38;5;124;03m    @return: bool indicting if the conductance model has changed\u001b[39;00m\n\u001b[1;32m     90\u001b[0m \u001b[38;5;124;03m    \"\"\"\u001b[39;00m\n\u001b[0;32m---> 91\u001b[0m     \u001b[38;5;28;01mreturn\u001b[39;00m \u001b[38;5;28;43mself\u001b[39;49m\u001b[38;5;241;43m.\u001b[39;49m\u001b[43m_hydraulic_conductance_model\u001b[49m\u001b[38;5;241;43m.\u001b[39;49m\u001b[43mupdate_xylem_damage\u001b[49m\u001b[43m(\u001b[49m\u001b[43mwater_potential\u001b[49m\u001b[43m,\u001b[49m\u001b[43m \u001b[49m\u001b[43mtimestep\u001b[49m\u001b[43m,\u001b[49m\u001b[43m \u001b[49m\u001b[43mtranspiration_rate\u001b[49m\u001b[43m)\u001b[49m\n",
      "File \u001b[0;32m~/Desktop/Training/Getting started with tree models/profit-optimisation-model/note books/../src/HydraulicConductanceModels/hydraulic_conductance_model.py:91\u001b[0m, in \u001b[0;36mHydraulicConductanceModel.update_xylem_damage\u001b[0;34m(self, water_potential, timestep, transpiration_rate)\u001b[0m\n\u001b[1;32m     88\u001b[0m \u001b[38;5;28;01mif\u001b[39;00m water_potential \u001b[38;5;241m>\u001b[39m\u001b[38;5;241m=\u001b[39m \u001b[38;5;28mself\u001b[39m\u001b[38;5;241m.\u001b[39m_xylem_recovery_water_potnetial:\n\u001b[1;32m     89\u001b[0m     \u001b[38;5;28;01mreturn\u001b[39;00m \u001b[38;5;28mself\u001b[39m\u001b[38;5;241m.\u001b[39m_recover_xylem(water_potential, timestep)\n\u001b[0;32m---> 91\u001b[0m \u001b[38;5;28;01melif\u001b[39;00m water_potential \u001b[38;5;241m<\u001b[39m\u001b[38;5;241m=\u001b[39m \u001b[38;5;28;43mself\u001b[39;49m\u001b[38;5;241;43m.\u001b[39;49m\u001b[43mcritical_water_potential\u001b[49m \u001b[38;5;241m*\u001b[39m (\u001b[38;5;241m1\u001b[39m \u001b[38;5;241m-\u001b[39m \u001b[38;5;28mself\u001b[39m\u001b[38;5;241m.\u001b[39m_PLC_damage_threshold):\n\u001b[1;32m     92\u001b[0m     \u001b[38;5;28;01mreturn\u001b[39;00m \u001b[38;5;28mself\u001b[39m\u001b[38;5;241m.\u001b[39m_damage_xylem(water_potential, timestep, transpiration_rate)\n\u001b[1;32m     94\u001b[0m \u001b[38;5;28;01mreturn\u001b[39;00m \u001b[38;5;28;01mFalse\u001b[39;00m\n",
      "File \u001b[0;32m~/Desktop/Training/Getting started with tree models/profit-optimisation-model/note books/../src/HydraulicConductanceModels/hydraulic_conductance_model.py:139\u001b[0m, in \u001b[0;36mHydraulicConductanceModel.critical_water_potential\u001b[0;34m(self)\u001b[0m\n\u001b[1;32m    134\u001b[0m \u001b[38;5;129m@property\u001b[39m\n\u001b[1;32m    135\u001b[0m \u001b[38;5;28;01mdef\u001b[39;00m \u001b[38;5;21mcritical_water_potential\u001b[39m(\u001b[38;5;28mself\u001b[39m):\n\u001b[1;32m    136\u001b[0m \u001b[38;5;250m    \u001b[39m\u001b[38;5;124;03m\"\"\"\u001b[39;00m\n\u001b[1;32m    137\u001b[0m \u001b[38;5;124;03m    @return: (MPa)\u001b[39;00m\n\u001b[1;32m    138\u001b[0m \u001b[38;5;124;03m    \"\"\"\u001b[39;00m\n\u001b[0;32m--> 139\u001b[0m     \u001b[38;5;28;01mreturn\u001b[39;00m \u001b[38;5;28;43mself\u001b[39;49m\u001b[38;5;241;43m.\u001b[39;49m\u001b[43mwater_potential_from_conductivity_loss_fraction\u001b[49m\u001b[43m(\u001b[49m\u001b[38;5;28;43mself\u001b[39;49m\u001b[38;5;241;43m.\u001b[39;49m\u001b[43mcritical_conductance_loss_fraction\u001b[49m\u001b[43m)\u001b[49m\n",
      "File \u001b[0;32m~/Desktop/Training/Getting started with tree models/profit-optimisation-model/note books/../src/HydraulicConductanceModels/capped_conductance_model.py:49\u001b[0m, in \u001b[0;36mCappedHydraulicConductanceModel.water_potential_from_conductivity_loss_fraction\u001b[0;34m(self, conductivity_loss_fraction)\u001b[0m\n\u001b[1;32m     42\u001b[0m \u001b[38;5;28;01mdef\u001b[39;00m \u001b[38;5;21mwater_potential_from_conductivity_loss_fraction\u001b[39m(\u001b[38;5;28mself\u001b[39m, conductivity_loss_fraction):\n\u001b[1;32m     44\u001b[0m \u001b[38;5;250m    \u001b[39m\u001b[38;5;124;03m\"\"\"\u001b[39;00m\n\u001b[1;32m     45\u001b[0m \u001b[38;5;124;03m    @param conductivity_loss_fraction: (unitless)\u001b[39;00m\n\u001b[1;32m     46\u001b[0m \u001b[38;5;124;03m    @return: (MPa)\u001b[39;00m\n\u001b[1;32m     47\u001b[0m \u001b[38;5;124;03m    \"\"\"\u001b[39;00m\n\u001b[0;32m---> 49\u001b[0m     \u001b[38;5;28;01mraise\u001b[39;00m \u001b[38;5;167;01mException\u001b[39;00m(\u001b[38;5;124m\"\u001b[39m\u001b[38;5;124mwater_potential_from_conductivity_loss_fraction not calculable in capped conductance model\u001b[39m\u001b[38;5;124m\"\u001b[39m)\n",
      "\u001b[0;31mException\u001b[0m: water_potential_from_conductivity_loss_fraction not calculable in capped conductance model"
     ]
    }
   ],
   "source": [
    "time_steps = 100\n",
    "time_step_size = 0.5 # h\n",
    "\n",
    "time = [i*time_step_size for i in range(time_steps)]\n",
    "\n",
    "# Number of sample points used when finding optimal leaf water potential\n",
    "number_of_sample_points = 1000\n",
    "\n",
    "# -- setup output arrays --\n",
    "optimal_leaf_water_potential = zeros([time_steps, 3])\n",
    "net_CO2_uptake               = zeros([time_steps, 3])\n",
    "transpiration_rate           = zeros([time_steps, 3])\n",
    "intercellular_CO2            = zeros([time_steps, 3])\n",
    "stomatal_conductance_to_CO2  = zeros([time_steps, 3])\n",
    "\n",
    "for i in range(time_steps):\n",
    "    [optimal_leaf_water_potential[i,0],\n",
    "     net_CO2_uptake[i,0],\n",
    "     transpiration_rate[i,0],\n",
    "     intercellular_CO2[i,0],\n",
    "     stomatal_conductance_to_CO2[i,0]] = default_CW_profit_optimisation_model.calculate_time_step(time_step_size,\n",
    "                                                                                                  soil_water_potential,\n",
    "                                                                                                  air_temperature,\n",
    "                                                                                                  air_vapour_pressure_deficit,\n",
    "                                                                                                  air_pressure,\n",
    "                                                                                                  atmospheric_CO2_concentration,\n",
    "                                                                                                  intercellular_oxygen,\n",
    "                                                                                                  photosynthetically_active_radiation,\n",
    "                                                                                                  number_of_sample_points)\n",
    "\n",
    "    [optimal_leaf_water_potential[i,1],\n",
    "     net_CO2_uptake[i,1],\n",
    "     transpiration_rate[i,1],\n",
    "     intercellular_CO2[i,1],\n",
    "     stomatal_conductance_to_CO2[i,1]] = capped_CW_profit_optimisation_model.calculate_time_step(time_step_size,\n",
    "                                                                                                 soil_water_potential,\n",
    "                                                                                                 air_temperature,\n",
    "                                                                                                 air_vapour_pressure_deficit,\n",
    "                                                                                                 air_pressure,\n",
    "                                                                                                 atmospheric_CO2_concentration,\n",
    "                                                                                                 intercellular_oxygen,\n",
    "                                                                                                 photosynthetically_active_radiation,\n",
    "                                                                                                 number_of_sample_points)\n",
    "\n",
    "    [optimal_leaf_water_potential[i,2],\n",
    "     net_CO2_uptake[i,2],\n",
    "     transpiration_rate[i,2],\n",
    "     intercellular_CO2[i,2],\n",
    "     stomatal_conductance_to_CO2[i,2]] = D_S_Mackay_CW_profit_optimisation_model.calculate_time_step(time_step_size,\n",
    "                                                                                                     soil_water_potential,\n",
    "                                                                                                     air_temperature,\n",
    "                                                                                                     air_vapour_pressure_deficit,\n",
    "                                                                                                     air_pressure,\n",
    "                                                                                                     atmospheric_CO2_concentration,\n",
    "                                                                                                     intercellular_oxygen,\n",
    "                                                                                                     photosynthetically_active_radiation,\n",
    "                                                                                                     number_of_sample_points)"
   ]
  },
  {
   "cell_type": "markdown",
   "id": "b27ed7eb-2455-48f4-9966-8a0ea5fa57c7",
   "metadata": {},
   "source": [
    "Having done the calculation lets plot the CO2 uptake as a function of time."
   ]
  },
  {
   "cell_type": "code",
   "execution_count": 10,
   "id": "bf1d468e-8b1a-4f51-883b-42d39766c2de",
   "metadata": {},
   "outputs": [
    {
     "data": {
      "image/png": "[encoded data removed]",
      "text/plain": [
       "<Figure size 640x480 with 1 Axes>"
      ]
     },
     "metadata": {},
     "output_type": "display_data"
    }
   ],
   "source": [
    "for i in range(3):\n",
    "    plt.plot(time, net_CO2_uptake[:,i])\n",
    "\n",
    "plt.show()"
   ]
  },
  {
   "cell_type": "code",
   "execution_count": null,
   "id": "7482f7d3-1c3d-477d-a8f9-bd73185151bd",
   "metadata": {},
   "outputs": [],
   "source": []
  }
 ],
 "metadata": {
  "kernelspec": {
   "display_name": "Python 3 (ipykernel)",
   "language": "python",
   "name": "python3"
  },
  "language_info": {
   "codemirror_mode": {
    "name": "ipython",
    "version": 3
   },
   "file_extension": ".py",
   "mimetype": "text/x-python",
   "name": "python",
   "nbconvert_exporter": "python",
   "pygments_lexer": "ipython3",
   "version": "3.10.14"
  }
 },
 "nbformat": 4,
 "nbformat_minor": 5
}
