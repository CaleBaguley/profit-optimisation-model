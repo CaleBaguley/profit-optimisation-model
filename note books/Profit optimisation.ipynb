{
 "cells": [
  {
   "cell_type": "markdown",
   "id": "a4ab6ec0",
   "metadata": {},
   "source": [
    "The purpose of this note book is to demonstrate how teh profit optimisation model works.\n",
    "\n",
    "The code bellow imports all relevant python packages"
   ]
  },
  {
   "cell_type": "code",
   "execution_count": 1,
   "id": "92f33490",
   "metadata": {},
   "outputs": [],
   "source": [
    "import sys\n",
    "sys.path.append('../')\n",
    "\n",
    "from src.cumulative_Weibull_distribution_model import CumulativeWeibullDistribution\n",
    "from src.hydraulic_cost_model import HydraulicCostModel\n",
    "\n",
    "from numpy import linspace, zeros\n",
    "from matplotlib import pyplot as plt"
   ]
  },
  {
   "cell_type": "markdown",
   "id": "26a09350",
   "metadata": {},
   "source": [
    "# The Model\n",
    "\n",
    "    The core principle of the model is that the plant acts to maximise its photosynthesis rate while minimising the damage to xylem due to water stress."
   ]
  },
  {
   "cell_type": "markdown",
   "id": "e9270eeb",
   "metadata": {},
   "source": [
    "# Water loss"
   ]
  }
 ],
 "metadata": {
  "kernelspec": {
   "display_name": "Python 3 (ipykernel)",
   "language": "python",
   "name": "python3"
  },
  "language_info": {
   "codemirror_mode": {
    "name": "ipython",
    "version": 3
   },
   "file_extension": ".py",
   "mimetype": "text/x-python",
   "name": "python",
   "nbconvert_exporter": "python",
   "pygments_lexer": "ipython3",
   "version": "3.11.4"
  }
 },
 "nbformat": 4,
 "nbformat_minor": 5
}
